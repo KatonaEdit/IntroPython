{
 "cells": [
  {
   "cell_type": "markdown",
   "id": "bf1818cf-aaf7-45dd-961c-45638d7e1ee9",
   "metadata": {},
   "source": [
    "Introduction in programming using Python\n",
    "Data type"
   ]
  },
  {
   "cell_type": "code",
   "execution_count": 3,
   "id": "52b99ece-9120-4a6b-93a5-300abdf5cc65",
   "metadata": {},
   "outputs": [
    {
     "name": "stdout",
     "output_type": "stream",
     "text": [
      "Dta Science\n"
     ]
    },
    {
     "data": {
      "text/plain": [
       "str"
      ]
     },
     "execution_count": 3,
     "metadata": {},
     "output_type": "execute_result"
    }
   ],
   "source": [
    "# bool, int, float, str\n",
    "a = 'Dta Science'\n",
    "print(a)\n",
    "type(a)"
   ]
  },
  {
   "cell_type": "code",
   "execution_count": 5,
   "id": "9513fa19-0305-4b88-afd3-7285db104be1",
   "metadata": {},
   "outputs": [
    {
     "data": {
      "text/plain": [
       "str"
      ]
     },
     "execution_count": 5,
     "metadata": {},
     "output_type": "execute_result"
    }
   ],
   "source": [
    "type(a)"
   ]
  },
  {
   "cell_type": "code",
   "execution_count": 7,
   "id": "a17cd291-9364-493a-807d-cdc49ff9a212",
   "metadata": {},
   "outputs": [
    {
     "data": {
      "text/plain": [
       "bool"
      ]
     },
     "execution_count": 7,
     "metadata": {},
     "output_type": "execute_result"
    }
   ],
   "source": [
    "z = True\n",
    "type(z)"
   ]
  },
  {
   "cell_type": "code",
   "execution_count": 9,
   "id": "ba3190c7-26f7-47a7-b2dc-8812da3c470f",
   "metadata": {},
   "outputs": [
    {
     "data": {
      "text/plain": [
       "14.5"
      ]
     },
     "execution_count": 9,
     "metadata": {},
     "output_type": "execute_result"
    }
   ],
   "source": [
    "# bool -> int -> str\n",
    "True + 6 +7.5"
   ]
  },
  {
   "cell_type": "code",
   "execution_count": 11,
   "id": "16e61b3f-ed12-4cf1-899b-194b1805631b",
   "metadata": {},
   "outputs": [
    {
     "data": {
      "text/plain": [
       "10"
      ]
     },
     "execution_count": 11,
     "metadata": {},
     "output_type": "execute_result"
    }
   ],
   "source": [
    "int(7.5) + 3"
   ]
  },
  {
   "cell_type": "code",
   "execution_count": 13,
   "id": "3aa9e5cb-1555-4792-a56e-23e53053fcad",
   "metadata": {},
   "outputs": [
    {
     "data": {
      "text/plain": [
       "False"
      ]
     },
     "execution_count": 13,
     "metadata": {},
     "output_type": "execute_result"
    }
   ],
   "source": [
    "bool(0)"
   ]
  },
  {
   "cell_type": "code",
   "execution_count": 15,
   "id": "a887f5b5-b17f-422e-a9fc-2816cdbe6b64",
   "metadata": {},
   "outputs": [
    {
     "data": {
      "text/plain": [
       "8"
      ]
     },
     "execution_count": 15,
     "metadata": {},
     "output_type": "execute_result"
    }
   ],
   "source": [
    "#Auto typecasting\n",
    "True +3 + int(4.5)"
   ]
  },
  {
   "cell_type": "code",
   "execution_count": 17,
   "id": "23c5b561-8295-49e6-bbc5-b84739db8149",
   "metadata": {},
   "outputs": [
    {
     "name": "stdout",
     "output_type": "stream",
     "text": [
      "<class 'int'>\n",
      "<class 'float'>\n"
     ]
    }
   ],
   "source": [
    "a = 3\n",
    "b = 4.5\n",
    "print(type(a))\n",
    "print(type(b))"
   ]
  },
  {
   "cell_type": "code",
   "execution_count": 19,
   "id": "6b4fe0b0-c7a2-4f8c-b9bf-1397e2fc8250",
   "metadata": {},
   "outputs": [
    {
     "data": {
      "text/plain": [
       "7"
      ]
     },
     "execution_count": 19,
     "metadata": {},
     "output_type": "execute_result"
    }
   ],
   "source": [
    "a + int(b)"
   ]
  },
  {
   "cell_type": "code",
   "execution_count": 23,
   "id": "60a46065-6ef4-4157-b5b1-5563e212a925",
   "metadata": {},
   "outputs": [
    {
     "data": {
      "text/plain": [
       "4"
      ]
     },
     "execution_count": 23,
     "metadata": {},
     "output_type": "execute_result"
    }
   ],
   "source": [
    "#True -> 1, False -> 0\n",
    "False + 4"
   ]
  },
  {
   "cell_type": "code",
   "execution_count": 25,
   "id": "054484b6-e06d-4864-813b-c3cfcd56e0e3",
   "metadata": {},
   "outputs": [
    {
     "data": {
      "text/plain": [
       "123"
      ]
     },
     "execution_count": 25,
     "metadata": {},
     "output_type": "execute_result"
    }
   ],
   "source": [
    "int(123.987)"
   ]
  },
  {
   "cell_type": "code",
   "execution_count": 27,
   "id": "2138620f-453a-4a23-beb1-2c9f109ff82e",
   "metadata": {},
   "outputs": [
    {
     "ename": "TypeError",
     "evalue": "int() argument must be a string, a bytes-like object or a real number, not 'complex'",
     "output_type": "error",
     "traceback": [
      "\u001b[1;31m---------------------------------------------------------------------------\u001b[0m",
      "\u001b[1;31mTypeError\u001b[0m                                 Traceback (most recent call last)",
      "Cell \u001b[1;32mIn[27], line 1\u001b[0m\n\u001b[1;32m----> 1\u001b[0m \u001b[38;5;28mint\u001b[39m(\u001b[38;5;241m10\u001b[39m\u001b[38;5;241m+\u001b[39m\u001b[38;5;241m5\u001b[39mj)\n",
      "\u001b[1;31mTypeError\u001b[0m: int() argument must be a string, a bytes-like object or a real number, not 'complex'"
     ]
    }
   ],
   "source": [
    "int(10+5j)"
   ]
  },
  {
   "cell_type": "code",
   "execution_count": 29,
   "id": "50384375-1713-4e9b-b8a9-502434bea6c3",
   "metadata": {},
   "outputs": [
    {
     "data": {
      "text/plain": [
       "1"
      ]
     },
     "execution_count": 29,
     "metadata": {},
     "output_type": "execute_result"
    }
   ],
   "source": [
    "int(True)"
   ]
  },
  {
   "cell_type": "code",
   "execution_count": 31,
   "id": "846aca06-6198-4427-907e-d5a0dc61dccf",
   "metadata": {},
   "outputs": [
    {
     "data": {
      "text/plain": [
       "0"
      ]
     },
     "execution_count": 31,
     "metadata": {},
     "output_type": "execute_result"
    }
   ],
   "source": [
    "int(False)"
   ]
  },
  {
   "cell_type": "code",
   "execution_count": 33,
   "id": "9c09b8b3-4002-42a8-aa85-b119debdaf2b",
   "metadata": {},
   "outputs": [
    {
     "data": {
      "text/plain": [
       "10"
      ]
     },
     "execution_count": 33,
     "metadata": {},
     "output_type": "execute_result"
    }
   ],
   "source": [
    "int(10)"
   ]
  },
  {
   "cell_type": "code",
   "execution_count": 35,
   "id": "1bc5a437-3343-4d31-9235-e2c500426a1a",
   "metadata": {},
   "outputs": [
    {
     "ename": "ValueError",
     "evalue": "invalid literal for int() with base 10: '10.5'",
     "output_type": "error",
     "traceback": [
      "\u001b[1;31m---------------------------------------------------------------------------\u001b[0m",
      "\u001b[1;31mValueError\u001b[0m                                Traceback (most recent call last)",
      "Cell \u001b[1;32mIn[35], line 1\u001b[0m\n\u001b[1;32m----> 1\u001b[0m \u001b[38;5;28mint\u001b[39m(\u001b[38;5;124m\"\u001b[39m\u001b[38;5;124m10.5\u001b[39m\u001b[38;5;124m\"\u001b[39m)\n",
      "\u001b[1;31mValueError\u001b[0m: invalid literal for int() with base 10: '10.5'"
     ]
    }
   ],
   "source": [
    "int(\"10.5\")"
   ]
  },
  {
   "cell_type": "code",
   "execution_count": 37,
   "id": "7ad0fea4-7b18-46ba-96c4-f802ddae89f3",
   "metadata": {},
   "outputs": [
    {
     "ename": "ValueError",
     "evalue": "invalid literal for int() with base 10: 'ten'",
     "output_type": "error",
     "traceback": [
      "\u001b[1;31m---------------------------------------------------------------------------\u001b[0m",
      "\u001b[1;31mValueError\u001b[0m                                Traceback (most recent call last)",
      "Cell \u001b[1;32mIn[37], line 1\u001b[0m\n\u001b[1;32m----> 1\u001b[0m \u001b[38;5;28mint\u001b[39m(\u001b[38;5;124m\"\u001b[39m\u001b[38;5;124mten\u001b[39m\u001b[38;5;124m\"\u001b[39m)\n",
      "\u001b[1;31mValueError\u001b[0m: invalid literal for int() with base 10: 'ten'"
     ]
    }
   ],
   "source": [
    "int(\"ten\")"
   ]
  },
  {
   "cell_type": "code",
   "execution_count": 39,
   "id": "6074de74-d3c9-45e1-ae1d-64ac86c8f03f",
   "metadata": {},
   "outputs": [
    {
     "ename": "ValueError",
     "evalue": "invalid literal for int() with base 10: '0B1111'",
     "output_type": "error",
     "traceback": [
      "\u001b[1;31m---------------------------------------------------------------------------\u001b[0m",
      "\u001b[1;31mValueError\u001b[0m                                Traceback (most recent call last)",
      "Cell \u001b[1;32mIn[39], line 1\u001b[0m\n\u001b[1;32m----> 1\u001b[0m \u001b[38;5;28mint\u001b[39m(\u001b[38;5;124m\"\u001b[39m\u001b[38;5;124m0B1111\u001b[39m\u001b[38;5;124m\"\u001b[39m)\n",
      "\u001b[1;31mValueError\u001b[0m: invalid literal for int() with base 10: '0B1111'"
     ]
    }
   ],
   "source": [
    "int(\"0B1111\")"
   ]
  },
  {
   "cell_type": "code",
   "execution_count": 41,
   "id": "01d534a6-205f-41ed-be24-d8bad8ce0c6a",
   "metadata": {},
   "outputs": [
    {
     "data": {
      "text/plain": [
       "10.0"
      ]
     },
     "execution_count": 41,
     "metadata": {},
     "output_type": "execute_result"
    }
   ],
   "source": [
    "float(10)"
   ]
  },
  {
   "cell_type": "code",
   "execution_count": 43,
   "id": "7c40b9ba-a718-4b41-b06a-8a26ed743ea4",
   "metadata": {},
   "outputs": [
    {
     "ename": "TypeError",
     "evalue": "float() argument must be a string or a real number, not 'complex'",
     "output_type": "error",
     "traceback": [
      "\u001b[1;31m---------------------------------------------------------------------------\u001b[0m",
      "\u001b[1;31mTypeError\u001b[0m                                 Traceback (most recent call last)",
      "Cell \u001b[1;32mIn[43], line 1\u001b[0m\n\u001b[1;32m----> 1\u001b[0m \u001b[38;5;28mfloat\u001b[39m(\u001b[38;5;241m10\u001b[39m\u001b[38;5;241m+\u001b[39m\u001b[38;5;241m5\u001b[39mj)\n",
      "\u001b[1;31mTypeError\u001b[0m: float() argument must be a string or a real number, not 'complex'"
     ]
    }
   ],
   "source": [
    "float(10+5j)"
   ]
  },
  {
   "cell_type": "code",
   "execution_count": 45,
   "id": "2cad6e95-11b7-489e-a562-7a86725c01dd",
   "metadata": {},
   "outputs": [
    {
     "data": {
      "text/plain": [
       "1.0"
      ]
     },
     "execution_count": 45,
     "metadata": {},
     "output_type": "execute_result"
    }
   ],
   "source": [
    "float(True)"
   ]
  },
  {
   "cell_type": "code",
   "execution_count": 47,
   "id": "764448ff-ab5a-4514-9528-60acb5631e1f",
   "metadata": {},
   "outputs": [
    {
     "data": {
      "text/plain": [
       "0.0"
      ]
     },
     "execution_count": 47,
     "metadata": {},
     "output_type": "execute_result"
    }
   ],
   "source": [
    "float(False)"
   ]
  },
  {
   "cell_type": "code",
   "execution_count": 49,
   "id": "fed80d92-222c-4210-9e02-956759dde752",
   "metadata": {},
   "outputs": [
    {
     "data": {
      "text/plain": [
       "10.0"
      ]
     },
     "execution_count": 49,
     "metadata": {},
     "output_type": "execute_result"
    }
   ],
   "source": [
    "float(\"10\")"
   ]
  },
  {
   "cell_type": "code",
   "execution_count": 51,
   "id": "6130e776-4572-4e5b-95ef-df60fbb9223f",
   "metadata": {},
   "outputs": [
    {
     "data": {
      "text/plain": [
       "10.5"
      ]
     },
     "execution_count": 51,
     "metadata": {},
     "output_type": "execute_result"
    }
   ],
   "source": [
    "float(\"10.5\")"
   ]
  },
  {
   "cell_type": "code",
   "execution_count": 53,
   "id": "d8f591da-a420-4058-8175-693d2efca9b7",
   "metadata": {},
   "outputs": [
    {
     "ename": "ValueError",
     "evalue": "could not convert string to float: 'ten'",
     "output_type": "error",
     "traceback": [
      "\u001b[1;31m---------------------------------------------------------------------------\u001b[0m",
      "\u001b[1;31mValueError\u001b[0m                                Traceback (most recent call last)",
      "Cell \u001b[1;32mIn[53], line 1\u001b[0m\n\u001b[1;32m----> 1\u001b[0m \u001b[38;5;28mfloat\u001b[39m(\u001b[38;5;124m\"\u001b[39m\u001b[38;5;124mten\u001b[39m\u001b[38;5;124m\"\u001b[39m)\n",
      "\u001b[1;31mValueError\u001b[0m: could not convert string to float: 'ten'"
     ]
    }
   ],
   "source": [
    "float(\"ten\")"
   ]
  },
  {
   "cell_type": "code",
   "execution_count": 55,
   "id": "4e5f6087-375b-4bdd-b3da-1be577d57c6f",
   "metadata": {},
   "outputs": [
    {
     "ename": "ValueError",
     "evalue": "could not convert string to float: '0B111'",
     "output_type": "error",
     "traceback": [
      "\u001b[1;31m---------------------------------------------------------------------------\u001b[0m",
      "\u001b[1;31mValueError\u001b[0m                                Traceback (most recent call last)",
      "Cell \u001b[1;32mIn[55], line 1\u001b[0m\n\u001b[1;32m----> 1\u001b[0m \u001b[38;5;28mfloat\u001b[39m(\u001b[38;5;124m\"\u001b[39m\u001b[38;5;124m0B111\u001b[39m\u001b[38;5;124m\"\u001b[39m)\n",
      "\u001b[1;31mValueError\u001b[0m: could not convert string to float: '0B111'"
     ]
    }
   ],
   "source": [
    "float(\"0B111\")"
   ]
  },
  {
   "cell_type": "code",
   "execution_count": 57,
   "id": "33c50ffd-ff18-4977-9fbf-c05cac570537",
   "metadata": {},
   "outputs": [
    {
     "data": {
      "text/plain": [
       "False"
      ]
     },
     "execution_count": 57,
     "metadata": {},
     "output_type": "execute_result"
    }
   ],
   "source": [
    "bool(0)"
   ]
  },
  {
   "cell_type": "code",
   "execution_count": 59,
   "id": "396a642e-a5d5-4b8e-9f18-9b9aad684e1e",
   "metadata": {},
   "outputs": [
    {
     "data": {
      "text/plain": [
       "True"
      ]
     },
     "execution_count": 59,
     "metadata": {},
     "output_type": "execute_result"
    }
   ],
   "source": [
    "bool(1)"
   ]
  },
  {
   "cell_type": "code",
   "execution_count": 61,
   "id": "f17aa283-3c85-4eb8-a3b2-3fbf43c5566b",
   "metadata": {},
   "outputs": [
    {
     "data": {
      "text/plain": [
       "True"
      ]
     },
     "execution_count": 61,
     "metadata": {},
     "output_type": "execute_result"
    }
   ],
   "source": [
    "bool(10)"
   ]
  },
  {
   "cell_type": "code",
   "execution_count": 63,
   "id": "8435ec2e-c4d8-4156-b579-d3b6d6eeb4e7",
   "metadata": {},
   "outputs": [
    {
     "data": {
      "text/plain": [
       "True"
      ]
     },
     "execution_count": 63,
     "metadata": {},
     "output_type": "execute_result"
    }
   ],
   "source": [
    "bool(10.5)"
   ]
  },
  {
   "cell_type": "code",
   "execution_count": 65,
   "id": "a7019184-accb-4acb-b2cc-c793d88bafb6",
   "metadata": {},
   "outputs": [
    {
     "data": {
      "text/plain": [
       "True"
      ]
     },
     "execution_count": 65,
     "metadata": {},
     "output_type": "execute_result"
    }
   ],
   "source": [
    "bool(0.178)"
   ]
  },
  {
   "cell_type": "code",
   "execution_count": 67,
   "id": "dc251f93-ca99-47ae-9da1-aa0eeb82f955",
   "metadata": {},
   "outputs": [
    {
     "data": {
      "text/plain": [
       "False"
      ]
     },
     "execution_count": 67,
     "metadata": {},
     "output_type": "execute_result"
    }
   ],
   "source": [
    "bool(0.0)"
   ]
  },
  {
   "cell_type": "code",
   "execution_count": 69,
   "id": "d9314468-2878-402b-82f2-87f0a6dcbc60",
   "metadata": {},
   "outputs": [
    {
     "data": {
      "text/plain": [
       "True"
      ]
     },
     "execution_count": 69,
     "metadata": {},
     "output_type": "execute_result"
    }
   ],
   "source": [
    "bool(10+2j)"
   ]
  },
  {
   "cell_type": "code",
   "execution_count": 71,
   "id": "e4d5da7f-c580-41ec-9fbc-831687d074bd",
   "metadata": {},
   "outputs": [
    {
     "data": {
      "text/plain": [
       "True"
      ]
     },
     "execution_count": 71,
     "metadata": {},
     "output_type": "execute_result"
    }
   ],
   "source": [
    "bool(0+1.5j)"
   ]
  },
  {
   "cell_type": "code",
   "execution_count": 73,
   "id": "93e7c096-b11e-4c3a-b959-2e371a86382d",
   "metadata": {},
   "outputs": [
    {
     "data": {
      "text/plain": [
       "False"
      ]
     },
     "execution_count": 73,
     "metadata": {},
     "output_type": "execute_result"
    }
   ],
   "source": [
    "bool(0+0j)"
   ]
  },
  {
   "cell_type": "code",
   "execution_count": 75,
   "id": "7747303e-0729-4977-b1b1-775be9f03d40",
   "metadata": {},
   "outputs": [
    {
     "data": {
      "text/plain": [
       "True"
      ]
     },
     "execution_count": 75,
     "metadata": {},
     "output_type": "execute_result"
    }
   ],
   "source": [
    "bool(\"True\")"
   ]
  },
  {
   "cell_type": "code",
   "execution_count": 77,
   "id": "45c67dd6-62b7-4dfb-aa33-6938c0a7de1b",
   "metadata": {},
   "outputs": [
    {
     "data": {
      "text/plain": [
       "True"
      ]
     },
     "execution_count": 77,
     "metadata": {},
     "output_type": "execute_result"
    }
   ],
   "source": [
    "bool(\"False\")"
   ]
  },
  {
   "cell_type": "code",
   "execution_count": 79,
   "id": "d48646e3-51f3-4ca6-85c8-89c5b7533aa3",
   "metadata": {},
   "outputs": [
    {
     "data": {
      "text/plain": [
       "False"
      ]
     },
     "execution_count": 79,
     "metadata": {},
     "output_type": "execute_result"
    }
   ],
   "source": [
    "bool(\"\")"
   ]
  },
  {
   "cell_type": "markdown",
   "id": "c7f3c5a4-62d8-4e55-86de-c370a0a50ec9",
   "metadata": {},
   "source": [
    "Slicing"
   ]
  },
  {
   "cell_type": "code",
   "execution_count": 84,
   "id": "282ed23b-cc24-4553-ba18-be0595dea7ce",
   "metadata": {},
   "outputs": [
    {
     "name": "stdout",
     "output_type": "stream",
     "text": [
      "I am a Data Scientist\n"
     ]
    },
    {
     "data": {
      "text/plain": [
       "'I am a Data Scientist'"
      ]
     },
     "execution_count": 84,
     "metadata": {},
     "output_type": "execute_result"
    }
   ],
   "source": [
    "a = \"I am a Data Scientist\"\n",
    "#indexing start from 0 from I & we count space as well so, index of 'a' is 2\n",
    "#'I=0', 'space=1', 'a=2', 'm=3' & so on.\n",
    "#'t=-1', 's=-2' & so on in case of reverse indexing\n",
    "print(a)\n",
    "a"
   ]
  },
  {
   "cell_type": "code",
   "execution_count": 86,
   "id": "509be7e2-15b0-4da6-9f3a-209560dc70a6",
   "metadata": {},
   "outputs": [
    {
     "data": {
      "text/plain": [
       "'am'"
      ]
     },
     "execution_count": 86,
     "metadata": {},
     "output_type": "execute_result"
    }
   ],
   "source": [
    "a[2:4]\n",
    "#it will print a letter which is on index 2&3 excluding index 4"
   ]
  },
  {
   "cell_type": "code",
   "execution_count": 88,
   "id": "0334fc5a-28a9-4373-98e7-a60adbec876e",
   "metadata": {},
   "outputs": [
    {
     "data": {
      "text/plain": [
       "'Scientist'"
      ]
     },
     "execution_count": 88,
     "metadata": {},
     "output_type": "execute_result"
    }
   ],
   "source": [
    "a[-9:]\n",
    "#if we see index in reverse direction will start from -1\n",
    "#so [-9:] from index -9 it will print all letter including a word of index 9"
   ]
  },
  {
   "cell_type": "code",
   "execution_count": 90,
   "id": "d5c2dc69-9793-4d35-81f7-dd4c74223281",
   "metadata": {},
   "outputs": [
    {
     "data": {
      "text/plain": [
       "'Data Scientist'"
      ]
     },
     "execution_count": 90,
     "metadata": {},
     "output_type": "execute_result"
    }
   ],
   "source": [
    "# : -> slicing operator\n",
    "a[7:]\n",
    "#starting from index 7 (including) it will print till the end"
   ]
  },
  {
   "cell_type": "code",
   "execution_count": 96,
   "id": "f62a47b2-39ce-4cd8-b80d-f0ba0b165b19",
   "metadata": {},
   "outputs": [
    {
     "data": {
      "text/plain": [
       "'I am a '"
      ]
     },
     "execution_count": 96,
     "metadata": {},
     "output_type": "execute_result"
    }
   ],
   "source": [
    "a[:7]\n",
    "#print everything excluding the letters starting from index 7]"
   ]
  },
  {
   "cell_type": "code",
   "execution_count": 100,
   "id": "615fe72b-4bd4-4a56-8b69-0e5cc60b9ba2",
   "metadata": {},
   "outputs": [
    {
     "name": "stdout",
     "output_type": "stream",
     "text": [
      "[3, 4, 5, 6]\n",
      "[2, 3, 4, 5, 6, 7, 8, 9, 10]\n",
      "[1, 2, 3, 4, 5]\n",
      "[1, 3, 5, 7, 9]\n"
     ]
    }
   ],
   "source": [
    "#Slicing list\n",
    "my_list = [1, 2, 3, 4, 5, 6, 7, 8, 9, 10]\n",
    "\n",
    "#Get a slice of the list from index 2 to index 6 (exclisive)\n",
    "slice_1 = my_list[2:6]\n",
    "print(slice_1)\n",
    "#output: [3, 4, 5, 6]\n",
    "\n",
    "#Get a sclice of the list from index 1 to the end\n",
    "slice_2 = my_list[1:]\n",
    "print(slice_2)\n",
    "#output: [2, 3, 4, 5, 6, 7, 8, 9, 10]\n",
    "\n",
    "#Get a slice of the list from the beginning to index5 (exclisive)\n",
    "slice_3 = my_list[:5]\n",
    "print(slice_3)\n",
    "#output: [1, 2, 3, 4, 5]\n",
    "\n",
    "#Get a slice of the list with a step size of 2\n",
    "slice_4 = my_list[::2]\n",
    "print(slice_4)\n",
    "#output: [1, 3, 5, 7, 9]"
   ]
  },
  {
   "cell_type": "code",
   "execution_count": 102,
   "id": "8afdfceb-55a1-4908-89c4-760cef83ecf1",
   "metadata": {},
   "outputs": [
    {
     "name": "stdout",
     "output_type": "stream",
     "text": [
      "orld!\n",
      "Hello\n",
      "HloWrd\n"
     ]
    }
   ],
   "source": [
    "#Slicing a string\n",
    "my_string = \"Hello World!\"\n",
    "\n",
    "#Get a slice of the string from index 7 to the end\n",
    "slice_5 = my_string[7:]\n",
    "print(slice_5)\n",
    "#output: \"orld!\"\n",
    "\n",
    "#Get a slice of the string from the beginning to index 4\n",
    "slice_6 = my_string[:5]\n",
    "print(slice_6)\n",
    "#output: \"Hello\"\n",
    "\n",
    "#Get a slice of the string with a step of 2\n",
    "slice_7 = my_string[::2]\n",
    "print(slice_7)\n",
    "#output: 'HloWrd'\n"
   ]
  },
  {
   "cell_type": "code",
   "execution_count": 106,
   "id": "d9e1c1b9-5c3f-4622-945e-08cfc6e59c05",
   "metadata": {},
   "outputs": [
    {
     "name": "stdout",
     "output_type": "stream",
     "text": [
      "[9, 10]\n",
      "[1, 2, 3, 4, 5, 6, 7]\n",
      "[10, 9, 8, 7, 6, 5, 4, 3, 2, 1]\n"
     ]
    }
   ],
   "source": [
    "#Slicing with negative indices\n",
    "my_list = [1, 2, 3, 4, 5, 6, 7, 8, 9, 10]\n",
    "\n",
    "#Get a slice of the list from the second last element to the end\n",
    "slice_8 = my_list[-2:]\n",
    "print(slice_8)\n",
    "#output: [9, 10]\n",
    "\n",
    "#Get a slice of the list from the beginning tot the third last element (exclusive)\n",
    "slice_9 = my_list[:-3]\n",
    "print(slice_9)\n",
    "#output: [1, 2, 3, 4, 5, 6, 7]\n",
    "\n",
    "#Get a slice of the list in reverse order\n",
    "slice_10 = my_list[::-1]\n",
    "print(slice_10)\n",
    "#output: [10, 9, 8, 7, 6, 5, 4, 3, 2, 1]"
   ]
  },
  {
   "cell_type": "code",
   "execution_count": 108,
   "id": "d561853d-6f38-4daf-9796-e326ec86c1d4",
   "metadata": {},
   "outputs": [
    {
     "name": "stdout",
     "output_type": "stream",
     "text": [
      "14\n",
      "6\n",
      "40\n",
      "10000\n",
      "2.5\n",
      "1\n"
     ]
    }
   ],
   "source": [
    "#Arithmetic operators\n",
    "\n",
    "#add\n",
    "print(10 + 4)\n",
    "\n",
    "#substract\n",
    "print(10 - 4)\n",
    "\n",
    "#multiply\n",
    "print(10 * 4)\n",
    "\n",
    "#exponent\n",
    "print(10**4)\n",
    "\n",
    "#divide\n",
    "print(10 / 4)\n",
    "\n",
    "#modulo\n",
    "print(5 % 4)"
   ]
  },
  {
   "cell_type": "code",
   "execution_count": 112,
   "id": "2a88c4ff-b9e4-4851-b845-abd8a1a98705",
   "metadata": {},
   "outputs": [
    {
     "name": "stdout",
     "output_type": "stream",
     "text": [
      "True\n",
      "True\n",
      "False\n",
      "True\n"
     ]
    }
   ],
   "source": [
    "#Logical / Comparison Operators\n",
    "\n",
    "#comparisons (these return True)\n",
    "print(5 > 3)\n",
    "print(5 >= 3)\n",
    "print(5 != 5)\n",
    "#boolean operation\n",
    "print(5 == 5)\n",
    "\n",
    "#evaluation order: not, and, or"
   ]
  },
  {
   "cell_type": "code",
   "execution_count": 134,
   "id": "4adfcf7c-9a3e-431d-b7c2-eabf01f43757",
   "metadata": {},
   "outputs": [
    {
     "data": {
      "text/plain": [
       "False"
      ]
     },
     "execution_count": 134,
     "metadata": {},
     "output_type": "execute_result"
    }
   ],
   "source": [
    "#Equality Operators\n",
    "\n",
    "10 == 20\n",
    "#True"
   ]
  },
  {
   "cell_type": "code",
   "execution_count": 124,
   "id": "29d9adba-db1a-422b-9bc0-d0202cfabd57",
   "metadata": {},
   "outputs": [
    {
     "data": {
      "text/plain": [
       "True"
      ]
     },
     "execution_count": 124,
     "metadata": {},
     "output_type": "execute_result"
    }
   ],
   "source": [
    "10 != 20\n",
    "#True"
   ]
  },
  {
   "cell_type": "code",
   "execution_count": 126,
   "id": "c5290cef-0929-4128-a503-fa7d2b86f23a",
   "metadata": {},
   "outputs": [
    {
     "data": {
      "text/plain": [
       "False"
      ]
     },
     "execution_count": 126,
     "metadata": {},
     "output_type": "execute_result"
    }
   ],
   "source": [
    "10 == True\n",
    "#False"
   ]
  },
  {
   "cell_type": "code",
   "execution_count": 128,
   "id": "9dbbf914-ad0a-48c3-b9b2-016963e8be54",
   "metadata": {},
   "outputs": [
    {
     "data": {
      "text/plain": [
       "True"
      ]
     },
     "execution_count": 128,
     "metadata": {},
     "output_type": "execute_result"
    }
   ],
   "source": [
    "False == False\n",
    "#True"
   ]
  },
  {
   "cell_type": "code",
   "execution_count": 130,
   "id": "7fb54131-0bea-4e06-a31c-f0d1ec3b5194",
   "metadata": {},
   "outputs": [
    {
     "data": {
      "text/plain": [
       "True"
      ]
     },
     "execution_count": 130,
     "metadata": {},
     "output_type": "execute_result"
    }
   ],
   "source": [
    "\"apa\" == \"apa\"\n",
    "#True"
   ]
  },
  {
   "cell_type": "code",
   "execution_count": 132,
   "id": "f8c97ada-a596-4a41-8725-619ee755e53d",
   "metadata": {},
   "outputs": [
    {
     "data": {
      "text/plain": [
       "False"
      ]
     },
     "execution_count": 132,
     "metadata": {},
     "output_type": "execute_result"
    }
   ],
   "source": [
    "10 == \"apa\"\n",
    "#False"
   ]
  },
  {
   "cell_type": "code",
   "execution_count": 136,
   "id": "5099de6a-6c17-4afc-aa65-14dd0ffbbe98",
   "metadata": {},
   "outputs": [
    {
     "name": "stdout",
     "output_type": "stream",
     "text": [
      "Both a or b ist greater than o \n"
     ]
    }
   ],
   "source": [
    "#Logical AND operator\n",
    "a = 10\n",
    "b = 20\n",
    "if a > 0 and b > 0:\n",
    "    print(\"Both a or b ist greater than o \")"
   ]
  },
  {
   "cell_type": "code",
   "execution_count": 144,
   "id": "90920f92-6225-4d2b-8924-f4c1ad8c17e9",
   "metadata": {},
   "outputs": [
    {
     "name": "stdout",
     "output_type": "stream",
     "text": [
      "Either a or b is greater than 0\n"
     ]
    }
   ],
   "source": [
    "#Logical  OR operator\n",
    "a = 10\n",
    "b = -5\n",
    "if a > 0 or b > 0:\n",
    "    print(\"Either a or b is greater than 0\")"
   ]
  },
  {
   "cell_type": "code",
   "execution_count": 146,
   "id": "86796e15-6723-45a1-928c-5ac0df586e97",
   "metadata": {},
   "outputs": [
    {
     "name": "stdout",
     "output_type": "stream",
     "text": [
      "a is True\n"
     ]
    }
   ],
   "source": [
    "#Logical NOT oprerator\n",
    "a = True\n",
    "if not a:\n",
    "    print(\"a is False\")\n",
    "else:\n",
    "    print(\"a is True\")"
   ]
  },
  {
   "cell_type": "code",
   "execution_count": 148,
   "id": "c599b825-2a93-4f2b-ac7b-f89221c309a4",
   "metadata": {},
   "outputs": [
    {
     "name": "stdout",
     "output_type": "stream",
     "text": [
      "4\n"
     ]
    }
   ],
   "source": [
    "#Bitwise AND\n",
    "#1100 in binary\n",
    "a = 12 \n",
    "#0111 in binary\n",
    "b = 7 \n",
    "result = a & b\n",
    "print(result)\n",
    "#output: 4 -> 0100 in binary"
   ]
  },
  {
   "cell_type": "code",
   "execution_count": 150,
   "id": "b44e3a9a-a5be-4314-b65c-fff4e77ef191",
   "metadata": {},
   "outputs": [
    {
     "name": "stdout",
     "output_type": "stream",
     "text": [
      "15\n"
     ]
    }
   ],
   "source": [
    "#Bitwise OR\n",
    "#1100 in binary\n",
    "a = 12 \n",
    "#0111 in binary\n",
    "b = 7 \n",
    "result = a | b\n",
    "print(result)\n",
    "#output: 15 -> 1111 in binary"
   ]
  },
  {
   "cell_type": "code",
   "execution_count": 152,
   "id": "253edaf1-9062-415e-bdfc-69b70e40d065",
   "metadata": {},
   "outputs": [
    {
     "name": "stdout",
     "output_type": "stream",
     "text": [
      "20\n"
     ]
    }
   ],
   "source": [
    "#Left Shift\n",
    "#0101 in binary\n",
    "a = 5 \n",
    "result = a << 2\n",
    "print(result)\n",
    "#output: 20 -> 010100 in binary"
   ]
  },
  {
   "cell_type": "code",
   "execution_count": 154,
   "id": "c0a40c13-a0ab-45f2-8c2a-4e887af5028c",
   "metadata": {},
   "outputs": [
    {
     "name": "stdout",
     "output_type": "stream",
     "text": [
      "3\n"
     ]
    }
   ],
   "source": [
    "#Right shift\n",
    "##1101 in binary\n",
    "a = 13\n",
    "result = a >> 2\n",
    "print(result)\n",
    "#output: 3 -> 0011 in binary"
   ]
  },
  {
   "cell_type": "code",
   "execution_count": 156,
   "id": "14bef196-11e3-4d9c-ac36-ba01787d1115",
   "metadata": {},
   "outputs": [
    {
     "name": "stdout",
     "output_type": "stream",
     "text": [
      "10\n"
     ]
    }
   ],
   "source": [
    "#Assigment operator\n",
    "x = 10\n",
    "print(x)"
   ]
  },
  {
   "cell_type": "code",
   "execution_count": 158,
   "id": "ddd2ea98-414e-4a39-9f22-7443505db45f",
   "metadata": {},
   "outputs": [
    {
     "name": "stdout",
     "output_type": "stream",
     "text": [
      "15\n"
     ]
    }
   ],
   "source": [
    "#Addition assigment\n",
    "#Equivalent to x = x + 5\n",
    "x += 5\n",
    "print(x)"
   ]
  },
  {
   "cell_type": "code",
   "execution_count": 160,
   "id": "c3204b7b-d675-42c7-8fd1-ab9530b9b2a1",
   "metadata": {},
   "outputs": [
    {
     "name": "stdout",
     "output_type": "stream",
     "text": [
      "12\n"
     ]
    }
   ],
   "source": [
    "#Subtraction assigment\n",
    "#Equivalent to x = x - 3\n",
    "x -= 3\n",
    "print(x)"
   ]
  },
  {
   "cell_type": "code",
   "execution_count": 162,
   "id": "46fec784-f4c2-4ff7-8eb1-d98961536245",
   "metadata": {},
   "outputs": [
    {
     "name": "stdout",
     "output_type": "stream",
     "text": [
      "24\n"
     ]
    }
   ],
   "source": [
    "#Multiplication assigment\n",
    "#x = x * 2\n",
    "x *= 2\n",
    "print(x)"
   ]
  },
  {
   "cell_type": "code",
   "execution_count": 164,
   "id": "67f6aea0-8fc7-4c6a-a861-36a3519bd2eb",
   "metadata": {},
   "outputs": [
    {
     "name": "stdout",
     "output_type": "stream",
     "text": [
      "6.0\n"
     ]
    }
   ],
   "source": [
    "#Division assigment\n",
    "#x = x / 4\n",
    "x /= 4\n",
    "print(x)"
   ]
  },
  {
   "cell_type": "code",
   "execution_count": 166,
   "id": "509964d3-69d8-4e8b-ae20-fbd6265e93c5",
   "metadata": {},
   "outputs": [
    {
     "name": "stdout",
     "output_type": "stream",
     "text": [
      "0.0\n"
     ]
    }
   ],
   "source": [
    "#Modulus assigment\n",
    "#x = x % 3\n",
    "x %= 3\n",
    "print(x)"
   ]
  },
  {
   "cell_type": "code",
   "execution_count": 168,
   "id": "789621de-ec3e-4c22-8719-a6bab6e658ee",
   "metadata": {},
   "outputs": [
    {
     "name": "stdout",
     "output_type": "stream",
     "text": [
      "0.0\n"
     ]
    }
   ],
   "source": [
    "#Exponentiation assigment\n",
    "#x = x ** 2\n",
    "x **= 2\n",
    "print(x)"
   ]
  },
  {
   "cell_type": "code",
   "execution_count": 170,
   "id": "1159756f-105c-4bb5-accf-7b27abcb8498",
   "metadata": {},
   "outputs": [
    {
     "name": "stdout",
     "output_type": "stream",
     "text": [
      "0.0\n"
     ]
    }
   ],
   "source": [
    "#Floor division assigment\n",
    "#x = x // 3\n",
    "x //= 3\n",
    "print(x)"
   ]
  },
  {
   "cell_type": "code",
   "execution_count": 174,
   "id": "0777fc29-a3ec-44b8-b93f-ddfa51df26c7",
   "metadata": {},
   "outputs": [
    {
     "name": "stdout",
     "output_type": "stream",
     "text": [
      "15\n",
      "5\n",
      "50\n",
      "2.0\n",
      "1\n",
      "1000\n",
      "3\n"
     ]
    }
   ],
   "source": [
    "#Aritmetic operators\n",
    "x = 10 + 5\n",
    "print(x)\n",
    "\n",
    "y = 10 - 5\n",
    "print(y)\n",
    "\n",
    "z = 10 * 5\n",
    "print(z)\n",
    "\n",
    "w = 10 / 5\n",
    "print(w)\n",
    "\n",
    "mod = 10 % 3\n",
    "print(mod)\n",
    "\n",
    "exp = 10 ** 3\n",
    "print(exp)\n",
    "\n",
    "floor_div = 10 // 3 \n",
    "print(floor_div)\n",
    " "
   ]
  },
  {
   "cell_type": "code",
   "execution_count": 178,
   "id": "cc0a23cb-1314-461c-bdfc-441be5011922",
   "metadata": {},
   "outputs": [
    {
     "name": "stdout",
     "output_type": "stream",
     "text": [
      "8\n",
      "2\n",
      "15\n",
      "1.6666666666666667\n",
      "2\n",
      "125\n",
      "1\n"
     ]
    }
   ],
   "source": [
    "#Assigment operators\n",
    "#Addition assigment\n",
    "a = 5\n",
    "a += 3\n",
    "print(a)\n",
    "\n",
    "#Substarction assigment\n",
    "b = 5\n",
    "b -= 3\n",
    "print(b)\n",
    "\n",
    "#Multiplication assigment\n",
    "c = 5\n",
    "c *= 3\n",
    "print(c)\n",
    "\n",
    "#Division assigment\n",
    "d = 5\n",
    "d /= 3\n",
    "print(d)\n",
    "\n",
    "#Modulus assigment\n",
    "e = 5\n",
    "e %= 3\n",
    "print(e)\n",
    "\n",
    "#Exponentiation assigment\n",
    "f = 5\n",
    "f **= 3\n",
    "print(f)\n",
    "\n",
    "#Floor division assigment\n",
    "g = 5\n",
    "g //= 3\n",
    "print(g)"
   ]
  },
  {
   "cell_type": "code",
   "execution_count": 180,
   "id": "8f79d234-593a-4811-80b7-72cc3f20d28a",
   "metadata": {},
   "outputs": [
    {
     "name": "stdout",
     "output_type": "stream",
     "text": [
      "False\n",
      "True\n",
      "False\n",
      "True\n",
      "False\n",
      "True\n"
     ]
    }
   ],
   "source": [
    "#Comparision operators\n",
    "x = 5\n",
    "y = 10\n",
    "\n",
    "print(x == y)\n",
    "print(x != y)\n",
    "print(x > y)\n",
    "print(x < y)\n",
    "print(x >= y)\n",
    "print(x <= y)"
   ]
  },
  {
   "cell_type": "code",
   "execution_count": 182,
   "id": "621596e2-fc33-499e-840a-7198b78cd1d2",
   "metadata": {},
   "outputs": [
    {
     "name": "stdout",
     "output_type": "stream",
     "text": [
      "False\n",
      "True\n",
      "False\n"
     ]
    }
   ],
   "source": [
    "#Logical operators\n",
    "a = True \n",
    "b = False\n",
    "\n",
    "print(a and b)\n",
    "\n",
    "print(a or b)\n",
    "\n",
    "print(not a)"
   ]
  },
  {
   "cell_type": "code",
   "execution_count": 184,
   "id": "e4cc6d94-666a-4649-bf7b-f3d5f8145e08",
   "metadata": {},
   "outputs": [
    {
     "name": "stdout",
     "output_type": "stream",
     "text": [
      "2\n",
      "15\n",
      "13\n",
      "-11\n",
      "40\n",
      "2\n"
     ]
    }
   ],
   "source": [
    "#Bitwise operators\n",
    "x = 10\n",
    "y = 7\n",
    "\n",
    "print(x & y)\n",
    "\n",
    "print(x | y)\n",
    "\n",
    "print( x ^ y)\n",
    "\n",
    "print(~x)\n",
    "\n",
    "print(x << 2)\n",
    "\n",
    "print(x >> 2)"
   ]
  },
  {
   "cell_type": "code",
   "execution_count": null,
   "id": "53ac8750-6ebd-43bb-8193-c3c5e9535267",
   "metadata": {},
   "outputs": [],
   "source": []
  }
 ],
 "metadata": {
  "kernelspec": {
   "display_name": "Python [conda env:base] *",
   "language": "python",
   "name": "conda-base-py"
  },
  "language_info": {
   "codemirror_mode": {
    "name": "ipython",
    "version": 3
   },
   "file_extension": ".py",
   "mimetype": "text/x-python",
   "name": "python",
   "nbconvert_exporter": "python",
   "pygments_lexer": "ipython3",
   "version": "3.12.7"
  }
 },
 "nbformat": 4,
 "nbformat_minor": 5
}
