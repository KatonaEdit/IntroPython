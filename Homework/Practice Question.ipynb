{
 "cells": [
  {
   "cell_type": "markdown",
   "id": "3fe2e53e-2f8d-4dc7-b949-2fda718c6b99",
   "metadata": {},
   "source": [
    "Operators (Arithmetic, Comparison, Logical, Assignment)\n"
   ]
  },
  {
   "cell_type": "code",
   "execution_count": null,
   "id": "13bd5dba-1910-4ef3-bbd9-d130ce04fd1f",
   "metadata": {},
   "outputs": [],
   "source": [
    "#1. Take two numbers and print their sum, difference, product, and quatient."
   ]
  }
 ],
 "metadata": {
  "kernelspec": {
   "display_name": "Python [conda env:base] *",
   "language": "python",
   "name": "conda-base-py"
  },
  "language_info": {
   "codemirror_mode": {
    "name": "ipython",
    "version": 3
   },
   "file_extension": ".py",
   "mimetype": "text/x-python",
   "name": "python",
   "nbconvert_exporter": "python",
   "pygments_lexer": "ipython3",
   "version": "3.12.7"
  }
 },
 "nbformat": 4,
 "nbformat_minor": 5
}
