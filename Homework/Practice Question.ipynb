{
 "cells": [
  {
   "cell_type": "markdown",
   "id": "3fe2e53e-2f8d-4dc7-b949-2fda718c6b99",
   "metadata": {},
   "source": [
    "Operators (Arithmetic, Comparison, Logical, Assignment)\n"
   ]
  },
  {
   "cell_type": "code",
   "execution_count": 4,
   "id": "13bd5dba-1910-4ef3-bbd9-d130ce04fd1f",
   "metadata": {},
   "outputs": [
    {
     "name": "stdin",
     "output_type": "stream",
     "text": [
      "Insert first number:  25\n",
      "Insert second number:  15\n"
     ]
    },
    {
     "name": "stdout",
     "output_type": "stream",
     "text": [
      "Sum: 40.0\n",
      "Difference: 10.0\n",
      "Product: 375.0\n",
      "Quotient: 1.6666666666666667\n"
     ]
    }
   ],
   "source": [
    "#1. Take two numbers and print their sum, difference, product, and quotient.\n",
    "num1 = float(input(\"Insert first number: \"))\n",
    "num2 = float(input(\"Insert second number: \"))\n",
    "\n",
    "sum = num1 + num2\n",
    "difference = num1 -num2\n",
    "product = num1 * num2\n",
    "quotient = num1 / num2\n",
    "\n",
    "print(f\"Sum: {sum}\")\n",
    "print(f\"Difference: {difference}\")\n",
    "print(f\"Product: {product}\")\n",
    "print(f\"Quotient: {quotient}\")\n",
    "\n"
   ]
  },
  {
   "cell_type": "code",
   "execution_count": 6,
   "id": "5060b87f-4562-45e1-869d-345d3098ca38",
   "metadata": {},
   "outputs": [
    {
     "name": "stdin",
     "output_type": "stream",
     "text": [
      "Enter a number:  300\n"
     ]
    },
    {
     "name": "stdout",
     "output_type": "stream",
     "text": [
      "Number is greater than 100.\n"
     ]
    }
   ],
   "source": [
    "#2.  Take a number and print whether it's greater than 100.\n",
    "num = float(input(\"Enter a number: \"))\n",
    "if num > 100:\n",
    "    print(\"Number is greater than 100.\")\n",
    "else:\n",
    "    print(\"Number is not greater than 100.\")"
   ]
  },
  {
   "cell_type": "code",
   "execution_count": 8,
   "id": "5c29baea-c4b0-4e68-818e-25e6d0b2161c",
   "metadata": {},
   "outputs": [
    {
     "name": "stdin",
     "output_type": "stream",
     "text": [
      "Enter first number:  6\n",
      "Enter second number:  7\n"
     ]
    },
    {
     "name": "stdout",
     "output_type": "stream",
     "text": [
      "The variable not hold the same value\n"
     ]
    }
   ],
   "source": [
    "#3. Check if two variables hold the same value.\n",
    "a = int(input(\"Enter first number: \"))\n",
    "b = int(input(\"Enter second number: \"))\n",
    "if a == b:\n",
    "    print(\"The variable hold the same value\")\n",
    "else:\n",
    "    print(\"The variable not hold the same value\")"
   ]
  },
  {
   "cell_type": "code",
   "execution_count": 12,
   "id": "d331aba1-150b-44fd-911e-2b2f2c3bed61",
   "metadata": {},
   "outputs": [
    {
     "name": "stdin",
     "output_type": "stream",
     "text": [
      "Enter a number: 15\n"
     ]
    },
    {
     "name": "stdout",
     "output_type": "stream",
     "text": [
      "The number is divisible by 3 and 5.\n"
     ]
    }
   ],
   "source": [
    "#4. ake a number and check if it’s divisible by 3 and 5.\n",
    "num = int(input(\"Enter a number:\"))\n",
    "\n",
    "if num % 3 == 0 and num % 5 == 0:\n",
    "    print(\"The number is divisible by 3 and 5.\")\n",
    "else:\n",
    "    print(\"The number is not divisible by 3 and 5.\")"
   ]
  },
  {
   "cell_type": "code",
   "execution_count": 14,
   "id": "9e082f0a-7b98-4619-816a-6d12761cb11e",
   "metadata": {},
   "outputs": [
    {
     "name": "stdin",
     "output_type": "stream",
     "text": [
      "Enter a number: 255\n"
     ]
    },
    {
     "name": "stdout",
     "output_type": "stream",
     "text": [
      "The number is neither even or divisible by 7.\n"
     ]
    }
   ],
   "source": [
    "#5.  Check if a number is either even or divisible by 7\n",
    "num = int(input(\"Enter a number:\"))\n",
    "\n",
    "if num % 2 == 0 or num % 7 == 0:\n",
    "    print(\"The number is either even or divisible by 7.\")\n",
    "else:\n",
    "    print(\"The number is neither even or divisible by 7.\")"
   ]
  },
  {
   "cell_type": "code",
   "execution_count": 16,
   "id": "02b3c7d4-14ee-4419-ab2c-68fd0ff502d2",
   "metadata": {},
   "outputs": [
    {
     "name": "stdout",
     "output_type": "stream",
     "text": [
      "33\n",
      "66\n"
     ]
    }
   ],
   "source": [
    "#6. Use += and *= to modify a variable value.\n",
    "x = 23\n",
    "x += 10\n",
    "print(x)\n",
    "x *= 2\n",
    "print(x)"
   ]
  },
  {
   "cell_type": "code",
   "execution_count": 18,
   "id": "96731d10-53ee-470a-8a70-6b2b582d39ad",
   "metadata": {},
   "outputs": [
    {
     "name": "stdin",
     "output_type": "stream",
     "text": [
      "Enter first age:  45\n",
      "Enter second age:  23\n"
     ]
    },
    {
     "name": "stdout",
     "output_type": "stream",
     "text": [
      "The first person is older!\n"
     ]
    }
   ],
   "source": [
    "#7. Compare two ages and print who is older.\n",
    "age_1 = int(input(\"Enter first age: \"))\n",
    "age_2 = int(input(\"Enter second age: \"))\n",
    "\n",
    "if age_1 > age_2:\n",
    "    print(\"The first person is older!\")\n",
    "elif age_2 > age_1:\n",
    "    print(\"The second person is older!\")\n",
    "\n"
   ]
  },
  {
   "cell_type": "code",
   "execution_count": 20,
   "id": "38acabaf-53f5-4406-bc2d-1f0304b93353",
   "metadata": {},
   "outputs": [
    {
     "name": "stdin",
     "output_type": "stream",
     "text": [
      "Enter first age:  45\n",
      "Enter second age:  23\n"
     ]
    },
    {
     "name": "stdout",
     "output_type": "stream",
     "text": [
      "The first person is older.\n"
     ]
    }
   ],
   "source": [
    "#8.  Use not to reverse a condition result.\n",
    "age_1 = int(input(\"Enter first age: \"))\n",
    "age_2 = int(input(\"Enter second age: \"))\n",
    "\n",
    "if not age_1 > age_2:\n",
    "    print(\"The second person is older or they are the same age!\")\n",
    "else:\n",
    "    print(\"The first person is older.\")"
   ]
  },
  {
   "cell_type": "code",
   "execution_count": 22,
   "id": "a91bed8a-ac05-439f-9396-dccc25664cca",
   "metadata": {},
   "outputs": [
    {
     "name": "stdout",
     "output_type": "stream",
     "text": [
      "The smallest number is: 4\n"
     ]
    }
   ],
   "source": [
    "#9.  Take three numbers and find the smallest using comparison operators.\n",
    "a = 12\n",
    "b = 7\n",
    "c = 4\n",
    "if a <= b and a <= c:\n",
    "    smallest = a\n",
    "elif b <= a and b <= c:\n",
    "    smallest = b\n",
    "else:\n",
    "    smallest = c\n",
    "    print(f\"The smallest number is: {smallest}\")"
   ]
  },
  {
   "cell_type": "code",
   "execution_count": 24,
   "id": "5205b9e6-b946-4a68-ac47-05eace1b5660",
   "metadata": {},
   "outputs": [
    {
     "name": "stdout",
     "output_type": "stream",
     "text": [
      "After swapping: \n",
      "a =  4\n",
      "b =  8\n"
     ]
    }
   ],
   "source": [
    "#10. Swap two variables using assignment only\n",
    "a = 8\n",
    "b = 4\n",
    "\n",
    "a = a + b\n",
    "b = a - b\n",
    "a = a - b\n",
    "\n",
    "print(\"After swapping: \")\n",
    "print(\"a = \", a)\n",
    "print(\"b = \", b)"
   ]
  },
  {
   "cell_type": "markdown",
   "id": "89337a7d-833f-46cd-9c57-987248b405b1",
   "metadata": {},
   "source": [
    "Lists\n"
   ]
  },
  {
   "cell_type": "code",
   "execution_count": 35,
   "id": "75877450-8449-4ba4-8fc6-77de3c2b2859",
   "metadata": {},
   "outputs": [
    {
     "name": "stdout",
     "output_type": "stream",
     "text": [
      "read\n",
      "write\n",
      "learn\n",
      "study\n",
      "improve\n"
     ]
    }
   ],
   "source": [
    "#11.  Create a list of 5 items and print each one using a loop.\n",
    "my_list = [\"read\", \"write\", \"learn\", \"study\", \"improve\"]\n",
    "for item in my_list:\n",
    "    print(item)"
   ]
  },
  {
   "cell_type": "code",
   "execution_count": 37,
   "id": "7ecedd4f-acd9-443d-ae7b-7ab22dc14da4",
   "metadata": {},
   "outputs": [
    {
     "name": "stdout",
     "output_type": "stream",
     "text": [
      "['read', 'write', 'learn', 'study', 'improve', 'practice']\n"
     ]
    }
   ],
   "source": [
    "#12. Add an item to the end of a list.\n",
    "my_list = [\"read\", \"write\", \"learn\", \"study\", \"improve\"]\n",
    "my_list.append(\"practice\")\n",
    "print(my_list)\n"
   ]
  },
  {
   "cell_type": "code",
   "execution_count": 39,
   "id": "883a0129-bd58-481b-b424-5216ed93c18b",
   "metadata": {},
   "outputs": [
    {
     "name": "stdout",
     "output_type": "stream",
     "text": [
      "[1, 9, 2, 3, 4, 5, 6]\n"
     ]
    }
   ],
   "source": [
    "#13. Insert a number at the second position of a list.\n",
    "my_list = [1, 2, 3, 4, 5, 6]\n",
    "my_list.insert(1, 9)\n",
    "print(my_list)\n"
   ]
  },
  {
   "cell_type": "code",
   "execution_count": 44,
   "id": "386fa9bc-bd90-441b-9fff-91f96e0d827d",
   "metadata": {},
   "outputs": [
    {
     "name": "stdout",
     "output_type": "stream",
     "text": [
      "['read', 'write', 'learn', 'study']\n"
     ]
    }
   ],
   "source": [
    "#14. Remove the last item from a list.\n",
    "my_list = [\"read\", \"write\", \"learn\", \"study\", \"improve\"]\n",
    "my_list.remove(\"improve\") #my_list.pop()\n",
    "print(my_list)"
   ]
  },
  {
   "cell_type": "code",
   "execution_count": 46,
   "id": "aec5977e-f481-4ced-8f76-e5cf9f02e11a",
   "metadata": {},
   "outputs": [
    {
     "name": "stdout",
     "output_type": "stream",
     "text": [
      "[1, 3, 5, 6, 7, 8]\n"
     ]
    }
   ],
   "source": [
    "#15. Sort a list of numbers in ascending order.\n",
    "my_list = [1, 7, 3, 8, 5, 6]\n",
    "my_list.sort()\n",
    "print(my_list)"
   ]
  },
  {
   "cell_type": "code",
   "execution_count": 48,
   "id": "f454352a-d918-4fc8-88df-764b888e8656",
   "metadata": {},
   "outputs": [
    {
     "name": "stdout",
     "output_type": "stream",
     "text": [
      "[6, 5, 4, 3, 2, 1]\n"
     ]
    }
   ],
   "source": [
    "#16.  Reverse a list.\n",
    "my_list = [1, 2, 3, 4, 5, 6]\n",
    "my_list.reverse()\n",
    "print(my_list)"
   ]
  },
  {
   "cell_type": "code",
   "execution_count": 58,
   "id": "28955da6-e332-4378-848e-7c2a1ec2ac19",
   "metadata": {},
   "outputs": [
    {
     "name": "stdout",
     "output_type": "stream",
     "text": [
      "The sum is:  21\n"
     ]
    }
   ],
   "source": [
    "#17. Find the sum of all elements in a list.\n",
    "numbers = [1, 2, 3, 4, 5, 6]\n",
    "total = sum(numbers)\n",
    "print(\"The sum is: \", total)"
   ]
  },
  {
   "cell_type": "code",
   "execution_count": 62,
   "id": "e20a4d29-e094-4f87-ad03-c788d0440e95",
   "metadata": {},
   "outputs": [
    {
     "name": "stdout",
     "output_type": "stream",
     "text": [
      "Maximum value is:  6\n",
      "Minimum value is:  1\n"
     ]
    }
   ],
   "source": [
    "#18. Find the maximum and minimum values in a list.\n",
    "numbers = [1, 2, 3, 4, 5, 6]\n",
    "maximum = max(numbers)\n",
    "minimum = min(numbers)\n",
    "print(\"Maximum value is: \", maximum)\n",
    "print(\"Minimum value is: \", minimum)"
   ]
  },
  {
   "cell_type": "code",
   "execution_count": 64,
   "id": "30302634-aca9-4946-98d2-6ae9a38af750",
   "metadata": {},
   "outputs": [
    {
     "name": "stdin",
     "output_type": "stream",
     "text": [
      "Enter a item to check:  apple\n"
     ]
    },
    {
     "name": "stdout",
     "output_type": "stream",
     "text": [
      "'apple' item is not in the list.\n"
     ]
    }
   ],
   "source": [
    "#19.  Check if a user-entered item is in a list.\n",
    "my_list = [\"read\", \"write\", \"learn\", \"study\", \"improve\"]\n",
    "item = input(\"Enter a item to check: \")\n",
    "if item in my_list:\n",
    "    print(f\"'{item}' item is in the list.\")\n",
    "else:\n",
    "    print(f\"'{item}' item is not in the list.\")"
   ]
  },
  {
   "cell_type": "code",
   "execution_count": 66,
   "id": "692ff56e-f7ed-4c55-99cb-b586004cfda4",
   "metadata": {},
   "outputs": [
    {
     "name": "stdout",
     "output_type": "stream",
     "text": [
      "'read' apears 2 times in the list.\n"
     ]
    }
   ],
   "source": [
    "#20. Count how many times a certain value appears in a list.\n",
    "my_list = [\"read\", \"write\", \"learn\", \"study\", \"read\"]\n",
    "value = \"read\"\n",
    "count = my_list.count(value)\n",
    "print(f\"'{value}' apears {count} times in the list.\")"
   ]
  },
  {
   "cell_type": "markdown",
   "id": "4007120a-4a62-40f1-9abb-91bdd8584060",
   "metadata": {},
   "source": [
    "TUPLES"
   ]
  },
  {
   "cell_type": "code",
   "execution_count": 73,
   "id": "225472d3-c7b2-402e-8e8f-bbbbaba9b032",
   "metadata": {},
   "outputs": [
    {
     "name": "stdout",
     "output_type": "stream",
     "text": [
      "The second color is:  blue\n"
     ]
    }
   ],
   "source": [
    "#21. Create a tuple of 4 colors and print the second one\n",
    "my_tuple = (\"yelow\", \"blue\", \"red\", \"green\")\n",
    "print(\"The second color is: \", my_tuple[1])\n"
   ]
  },
  {
   "cell_type": "code",
   "execution_count": 77,
   "id": "213b18c4-2eeb-40b0-839a-1735c469abcb",
   "metadata": {},
   "outputs": [
    {
     "ename": "TypeError",
     "evalue": "'tuple' object does not support item assignment",
     "output_type": "error",
     "traceback": [
      "\u001b[1;31m---------------------------------------------------------------------------\u001b[0m",
      "\u001b[1;31mTypeError\u001b[0m                                 Traceback (most recent call last)",
      "Cell \u001b[1;32mIn[77], line 3\u001b[0m\n\u001b[0;32m      1\u001b[0m \u001b[38;5;66;03m#22. Try to change a value in a tuple (observe what happens).\u001b[39;00m\n\u001b[0;32m      2\u001b[0m my_tuple \u001b[38;5;241m=\u001b[39m (\u001b[38;5;124m\"\u001b[39m\u001b[38;5;124myelow\u001b[39m\u001b[38;5;124m\"\u001b[39m, \u001b[38;5;124m\"\u001b[39m\u001b[38;5;124mblue\u001b[39m\u001b[38;5;124m\"\u001b[39m, \u001b[38;5;124m\"\u001b[39m\u001b[38;5;124mred\u001b[39m\u001b[38;5;124m\"\u001b[39m, \u001b[38;5;124m\"\u001b[39m\u001b[38;5;124mgreen\u001b[39m\u001b[38;5;124m\"\u001b[39m)\n\u001b[1;32m----> 3\u001b[0m my_tuple[\u001b[38;5;241m1\u001b[39m] \u001b[38;5;241m=\u001b[39m \u001b[38;5;124m\"\u001b[39m\u001b[38;5;124mpurple\u001b[39m\u001b[38;5;124m\"\u001b[39m\n",
      "\u001b[1;31mTypeError\u001b[0m: 'tuple' object does not support item assignment"
     ]
    }
   ],
   "source": [
    "#22. Try to change a value in a tuple (observe what happens).\n",
    "my_tuple = (\"yelow\", \"blue\", \"red\", \"green\")\n",
    "my_tuple[1] = \"purple\""
   ]
  },
  {
   "cell_type": "code",
   "execution_count": 79,
   "id": "17e55049-cd11-4d28-8aaa-5aa176386c05",
   "metadata": {},
   "outputs": [
    {
     "name": "stdout",
     "output_type": "stream",
     "text": [
      "Tuple:  ('read', 'write', 'learn', 'study', 'read')\n"
     ]
    }
   ],
   "source": [
    "#23. Convert a list to a tuple.\n",
    "my_list = [\"read\", \"write\", \"learn\", \"study\", \"read\"]\n",
    "my_tuple = tuple(my_list)\n",
    "print(\"Tuple: \", my_tuple)"
   ]
  },
  {
   "cell_type": "code",
   "execution_count": 81,
   "id": "ec996127-99be-4398-87f8-d6fe6be9f4fc",
   "metadata": {},
   "outputs": [
    {
     "name": "stdout",
     "output_type": "stream",
     "text": [
      "'white' is not in the tuple.\n"
     ]
    }
   ],
   "source": [
    "#24.  Check if a value exists in a tuple.\n",
    "my_tuple =  ('read', 'write', 'learn', 'study', 'read')\n",
    "value = \"white\"\n",
    "if value in my_tuple:\n",
    "    print(f\"'{value}' is in the tuple.\")\n",
    "else:\n",
    "    print(f\"'{value}' is not in the tuple.\")\n",
    "\n",
    "\n"
   ]
  },
  {
   "cell_type": "code",
   "execution_count": 83,
   "id": "db69f406-46a0-4a2b-a323-cf07625ac757",
   "metadata": {},
   "outputs": [
    {
     "name": "stdout",
     "output_type": "stream",
     "text": [
      "The length o the tuple is:  5\n"
     ]
    }
   ],
   "source": [
    "#25. Find the length of a tuple.\n",
    "my_tuple =  ('read', 'write', 'learn', 'study', 'read')\n",
    "length = len(my_tuple)\n",
    "print(\"The length o the tuple is: \", length)"
   ]
  },
  {
   "cell_type": "code",
   "execution_count": 85,
   "id": "f97ffd3d-3912-4358-b110-1dfdc93cd05a",
   "metadata": {},
   "outputs": [
    {
     "name": "stdout",
     "output_type": "stream",
     "text": [
      "Last two elements are:  ('study', 'read')\n"
     ]
    }
   ],
   "source": [
    "#26.  Slice a tuple to get the last two elements.\n",
    "my_tuple =  ('read', 'write', 'learn', 'study', 'read')\n",
    "last_two = my_tuple[-2:]\n",
    "print(\"Last two elements are: \", last_two)"
   ]
  },
  {
   "cell_type": "code",
   "execution_count": 87,
   "id": "fb10bdd6-4f38-41a7-bf11-271ae2143f70",
   "metadata": {},
   "outputs": [
    {
     "name": "stdout",
     "output_type": "stream",
     "text": [
      "Combined tuple:  ('read', 'write', 'learn', 'study', 'read', 'red', 'yelow', 'blue', 'green', 'orange')\n"
     ]
    }
   ],
   "source": [
    "#27. Concantenate two tuples.\n",
    "my_tuple1 =  ('read', 'write', 'learn', 'study', 'read')\n",
    "my_tuple2 =  ('red', 'yelow', 'blue', 'green', 'orange')\n",
    "\n",
    "combined_tuple = my_tuple1 + my_tuple2\n",
    "print(\"Combined tuple: \", combined_tuple)\n"
   ]
  },
  {
   "cell_type": "code",
   "execution_count": 89,
   "id": "66642d36-8035-4e63-9106-30772fe9c5c8",
   "metadata": {},
   "outputs": [
    {
     "name": "stdout",
     "output_type": "stream",
     "text": [
      "X coordinate:  11\n",
      "Y coordinate:  56\n"
     ]
    }
   ],
   "source": [
    "#28. Use a tuple to store coordinates (x, y).\n",
    "coordinates = (11, 56)\n",
    "x = coordinates[0]\n",
    "y = coordinates[1]\n",
    "print(\"X coordinate: \", x)\n",
    "print(\"Y coordinate: \", y)\n"
   ]
  },
  {
   "cell_type": "code",
   "execution_count": 95,
   "id": "9d74ff40-00ce-4a5c-9c94-e24462d1400d",
   "metadata": {},
   "outputs": [
    {
     "name": "stdout",
     "output_type": "stream",
     "text": [
      "Maximum value is:  78\n"
     ]
    }
   ],
   "source": [
    "#29. Create a tuple with numbers and find the max value.\n",
    "my_tuple = (12, 34, 4, 56, 78)\n",
    "maximum = max(my_tuple)\n",
    "print(\"Maximum value is: \", maximum)"
   ]
  },
  {
   "cell_type": "code",
   "execution_count": 97,
   "id": "d7e08980-0aa6-4e08-9934-e9e4acbe6be1",
   "metadata": {},
   "outputs": [
    {
     "name": "stdout",
     "output_type": "stream",
     "text": [
      "List:  ['read', 'write', 'learn', 'study', 'read']\n",
      "New tuple:  ('read', 'write', 'learn', 'study', 'read')\n"
     ]
    }
   ],
   "source": [
    "#30. Convert a tuple to a list and back again.\n",
    "my_tuple =  ('read', 'write', 'learn', 'study', 'read')\n",
    "\n",
    "my_list = list(my_tuple)\n",
    "print(\"List: \", my_list)\n",
    "\n",
    "new_tuple = tuple(my_list)\n",
    "print(\"New tuple: \", new_tuple)"
   ]
  },
  {
   "cell_type": "markdown",
   "id": "e8e92f47-0655-4c39-b694-9b40cd171cea",
   "metadata": {},
   "source": [
    "DICTIONARIES"
   ]
  },
  {
   "cell_type": "code",
   "execution_count": 102,
   "id": "d4d5ae79-0890-4994-bd76-31fd609e59e7",
   "metadata": {},
   "outputs": [
    {
     "name": "stdout",
     "output_type": "stream",
     "text": [
      "{'Edit': 84, 'Antonia': 96, 'Daniel': 74}\n"
     ]
    }
   ],
   "source": [
    "#31. Create a dictionary of 3 students with their marks.\n",
    "students_marks = {\n",
    "    \"Edit\": 84,\n",
    "    \"Antonia\": 96,\n",
    "    \"Daniel\": 74\n",
    "}\n",
    "print(students_marks)"
   ]
  },
  {
   "cell_type": "code",
   "execution_count": 104,
   "id": "27142437-e3de-4beb-bcf7-8e01e1bc27a0",
   "metadata": {},
   "outputs": [
    {
     "name": "stdout",
     "output_type": "stream",
     "text": [
      "{'Edit': 84, 'Antonia': 96, 'Daniel': 74, 'Marius': 80}\n"
     ]
    }
   ],
   "source": [
    "#32. Add a new key-value pair to a dictionary.\n",
    "students_marks = {\n",
    "    \"Edit\": 84,\n",
    "    \"Antonia\": 96,\n",
    "    \"Daniel\": 74\n",
    "}\n",
    "students_marks[\"Marius\"] = 80\n",
    "print(students_marks)"
   ]
  },
  {
   "cell_type": "code",
   "execution_count": 106,
   "id": "4857a454-7211-4591-8937-a770c00a603d",
   "metadata": {},
   "outputs": [
    {
     "name": "stdout",
     "output_type": "stream",
     "text": [
      "{'Edit': 90, 'Antonia': 96, 'Daniel': 74}\n"
     ]
    }
   ],
   "source": [
    "#33. Update the value of an existing key.\n",
    "students_marks = {\n",
    "    \"Edit\": 84,\n",
    "    \"Antonia\": 96,\n",
    "    \"Daniel\": 74\n",
    "}\n",
    "students_marks[\"Edit\"] = 90\n",
    "print(students_marks)"
   ]
  },
  {
   "cell_type": "code",
   "execution_count": 108,
   "id": "d619f7eb-03fc-42ce-b3b0-1371dd48c668",
   "metadata": {},
   "outputs": [
    {
     "name": "stdout",
     "output_type": "stream",
     "text": [
      "{'Antonia': 96, 'Daniel': 74}\n"
     ]
    }
   ],
   "source": [
    "#34. Delete a key from the dictionary.\n",
    "students_marks = {\n",
    "    \"Edit\": 84,\n",
    "    \"Antonia\": 96,\n",
    "    \"Daniel\": 74\n",
    "}\n",
    "del students_marks[\"Edit\"]\n",
    "print(students_marks)"
   ]
  },
  {
   "cell_type": "code",
   "execution_count": 112,
   "id": "f9d51d80-e5ab-4105-8068-14fae4b3f084",
   "metadata": {},
   "outputs": [
    {
     "name": "stdout",
     "output_type": "stream",
     "text": [
      "Keys in the dictionary:  dict_keys(['Edit', 'Antonia', 'Daniel'])\n"
     ]
    }
   ],
   "source": [
    "#35. Print all keys of a dictionary.\n",
    "students_marks = {\n",
    "    \"Edit\": 84,\n",
    "    \"Antonia\": 96,\n",
    "    \"Daniel\": 74\n",
    "}\n",
    "print(\"Keys in the dictionary: \", students_marks.keys())"
   ]
  },
  {
   "cell_type": "code",
   "execution_count": 114,
   "id": "74883112-4c55-4173-b135-f0e617d70f4b",
   "metadata": {},
   "outputs": [
    {
     "name": "stdout",
     "output_type": "stream",
     "text": [
      "Values in the dictionary: dict_values([84, 96, 74])\n"
     ]
    }
   ],
   "source": [
    "#36. Print all values of a dictionary.\n",
    "students_marks = {\n",
    "    \"Edit\": 84,\n",
    "    \"Antonia\": 96,\n",
    "    \"Daniel\": 74\n",
    "}\n",
    "print(\"Values in the dictionary:\", students_marks.values())"
   ]
  },
  {
   "cell_type": "code",
   "execution_count": 116,
   "id": "8f885486-06d1-4dc7-a637-b21dcbe8edf7",
   "metadata": {},
   "outputs": [
    {
     "name": "stdout",
     "output_type": "stream",
     "text": [
      "The key 'Bob' does not exist in the dictionary.\n"
     ]
    }
   ],
   "source": [
    "#37.  Check if a specific key exists in the dictionary.\n",
    "students_marks = {\n",
    "    \"Edit\": 84,\n",
    "    \"Antonia\": 96,\n",
    "    \"Daniel\": 74\n",
    "}\n",
    "key_to_check = \"Bob\"\n",
    "\n",
    "if key_to_check in students_marks:\n",
    "    print(f\"The key '{key_to_check}' exists in the dictionary.\")\n",
    "else:\n",
    "    print(f\"The key '{key_to_check}' does not exist in the dictionary.\")"
   ]
  },
  {
   "cell_type": "code",
   "execution_count": 120,
   "id": "8b9b8da2-d84d-422d-8d7a-9c9fc3b0d39c",
   "metadata": {},
   "outputs": [
    {
     "name": "stdout",
     "output_type": "stream",
     "text": [
      "The value for 'Edit' is: 84\n"
     ]
    }
   ],
   "source": [
    "#38.  Get the value of a key using get().\n",
    "students_marks = {\n",
    "    \"Edit\": 84,\n",
    "    \"Antonia\": 96,\n",
    "    \"Daniel\": 74\n",
    "}\n",
    "\n",
    "key_to_get = \"Edit\"\n",
    "value = students_marks.get(key_to_get)\n",
    "\n",
    "if value:\n",
    "    print(f\"The value for '{key_to_get}' is: {value}\")\n",
    "else:\n",
    "    print(f\"Key '{key_to_get}' does not exist.\")\n"
   ]
  },
  {
   "cell_type": "code",
   "execution_count": 122,
   "id": "e0a97025-bcf4-4e0c-8b29-7687f04c0cc2",
   "metadata": {},
   "outputs": [
    {
     "name": "stdout",
     "output_type": "stream",
     "text": [
      "Key : Edit, Value : 84\n",
      "Key : Antonia, Value : 96\n",
      "Key : Daniel, Value : 74\n"
     ]
    }
   ],
   "source": [
    "#39. Loop through the dictionary and print each key and value. \n",
    "students_marks = {\n",
    "    \"Edit\": 84,\n",
    "    \"Antonia\": 96,\n",
    "    \"Daniel\": 74\n",
    "}\n",
    "for key, value in students_marks.items():\n",
    "    print(f\"Key : {key}, Value : {value}\")"
   ]
  },
  {
   "cell_type": "code",
   "execution_count": 126,
   "id": "22f4406f-a634-470f-a228-0c04fd327698",
   "metadata": {},
   "outputs": [
    {
     "name": "stdout",
     "output_type": "stream",
     "text": [
      "{1: 1, 2: 4, 3: 9, 4: 16, 5: 25}\n"
     ]
    }
   ],
   "source": [
    "#40. Create a dictionary where keys are numbers and values are their squares\n",
    "squares_dict ={x: x**2 for x in range(1, 6)}\n",
    "print(squares_dict)"
   ]
  },
  {
   "cell_type": "code",
   "execution_count": null,
   "id": "3c1f22f0-2f37-4203-a498-8460fb4854ef",
   "metadata": {},
   "outputs": [],
   "source": []
  }
 ],
 "metadata": {
  "kernelspec": {
   "display_name": "Python [conda env:base] *",
   "language": "python",
   "name": "conda-base-py"
  },
  "language_info": {
   "codemirror_mode": {
    "name": "ipython",
    "version": 3
   },
   "file_extension": ".py",
   "mimetype": "text/x-python",
   "name": "python",
   "nbconvert_exporter": "python",
   "pygments_lexer": "ipython3",
   "version": "3.12.7"
  }
 },
 "nbformat": 4,
 "nbformat_minor": 5
}
