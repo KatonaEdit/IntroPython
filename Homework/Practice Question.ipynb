{
 "cells": [
  {
   "cell_type": "markdown",
   "id": "3fe2e53e-2f8d-4dc7-b949-2fda718c6b99",
   "metadata": {},
   "source": [
    "Operators (Arithmetic, Comparison, Logical, Assignment)\n"
   ]
  },
  {
   "cell_type": "code",
   "execution_count": 4,
   "id": "13bd5dba-1910-4ef3-bbd9-d130ce04fd1f",
   "metadata": {},
   "outputs": [
    {
     "name": "stdin",
     "output_type": "stream",
     "text": [
      "Insert first number:  25\n",
      "Insert second number:  15\n"
     ]
    },
    {
     "name": "stdout",
     "output_type": "stream",
     "text": [
      "Sum: 40.0\n",
      "Difference: 10.0\n",
      "Product: 375.0\n",
      "Quotient: 1.6666666666666667\n"
     ]
    }
   ],
   "source": [
    "#1. Take two numbers and print their sum, difference, product, and quotient.\n",
    "num1 = float(input(\"Insert first number: \"))\n",
    "num2 = float(input(\"Insert second number: \"))\n",
    "\n",
    "sum = num1 + num2\n",
    "difference = num1 -num2\n",
    "product = num1 * num2\n",
    "quotient = num1 / num2\n",
    "\n",
    "print(f\"Sum: {sum}\")\n",
    "print(f\"Difference: {difference}\")\n",
    "print(f\"Product: {product}\")\n",
    "print(f\"Quotient: {quotient}\")\n",
    "\n"
   ]
  },
  {
   "cell_type": "code",
   "execution_count": 6,
   "id": "5060b87f-4562-45e1-869d-345d3098ca38",
   "metadata": {},
   "outputs": [
    {
     "name": "stdin",
     "output_type": "stream",
     "text": [
      "Enter a number:  300\n"
     ]
    },
    {
     "name": "stdout",
     "output_type": "stream",
     "text": [
      "Number is greater than 100.\n"
     ]
    }
   ],
   "source": [
    "#2.  Take a number and print whether it's greater than 100.\n",
    "num = float(input(\"Enter a number: \"))\n",
    "if num > 100:\n",
    "    print(\"Number is greater than 100.\")\n",
    "else:\n",
    "    print(\"Number is not greater than 100.\")"
   ]
  },
  {
   "cell_type": "code",
   "execution_count": 8,
   "id": "5c29baea-c4b0-4e68-818e-25e6d0b2161c",
   "metadata": {},
   "outputs": [
    {
     "name": "stdin",
     "output_type": "stream",
     "text": [
      "Enter first number:  6\n",
      "Enter second number:  7\n"
     ]
    },
    {
     "name": "stdout",
     "output_type": "stream",
     "text": [
      "The variable not hold the same value\n"
     ]
    }
   ],
   "source": [
    "#3. Check if two variables hold the same value.\n",
    "a = int(input(\"Enter first number: \"))\n",
    "b = int(input(\"Enter second number: \"))\n",
    "if a == b:\n",
    "    print(\"The variable hold the same value\")\n",
    "else:\n",
    "    print(\"The variable not hold the same value\")"
   ]
  },
  {
   "cell_type": "code",
   "execution_count": 12,
   "id": "d331aba1-150b-44fd-911e-2b2f2c3bed61",
   "metadata": {},
   "outputs": [
    {
     "name": "stdin",
     "output_type": "stream",
     "text": [
      "Enter a number: 15\n"
     ]
    },
    {
     "name": "stdout",
     "output_type": "stream",
     "text": [
      "The number is divisible by 3 and 5.\n"
     ]
    }
   ],
   "source": [
    "#4. ake a number and check if it’s divisible by 3 and 5.\n",
    "num = int(input(\"Enter a number:\"))\n",
    "\n",
    "if num % 3 == 0 and num % 5 == 0:\n",
    "    print(\"The number is divisible by 3 and 5.\")\n",
    "else:\n",
    "    print(\"The number is not divisible by 3 and 5.\")"
   ]
  },
  {
   "cell_type": "code",
   "execution_count": 14,
   "id": "9e082f0a-7b98-4619-816a-6d12761cb11e",
   "metadata": {},
   "outputs": [
    {
     "name": "stdin",
     "output_type": "stream",
     "text": [
      "Enter a number: 255\n"
     ]
    },
    {
     "name": "stdout",
     "output_type": "stream",
     "text": [
      "The number is neither even or divisible by 7.\n"
     ]
    }
   ],
   "source": [
    "#5.  Check if a number is either even or divisible by 7\n",
    "num = int(input(\"Enter a number:\"))\n",
    "\n",
    "if num % 2 == 0 or num % 7 == 0:\n",
    "    print(\"The number is either even or divisible by 7.\")\n",
    "else:\n",
    "    print(\"The number is neither even or divisible by 7.\")"
   ]
  },
  {
   "cell_type": "code",
   "execution_count": 16,
   "id": "02b3c7d4-14ee-4419-ab2c-68fd0ff502d2",
   "metadata": {},
   "outputs": [
    {
     "name": "stdout",
     "output_type": "stream",
     "text": [
      "33\n",
      "66\n"
     ]
    }
   ],
   "source": [
    "#6. Use += and *= to modify a variable value.\n",
    "x = 23\n",
    "x += 10\n",
    "print(x)\n",
    "x *= 2\n",
    "print(x)"
   ]
  },
  {
   "cell_type": "code",
   "execution_count": 18,
   "id": "96731d10-53ee-470a-8a70-6b2b582d39ad",
   "metadata": {},
   "outputs": [
    {
     "name": "stdin",
     "output_type": "stream",
     "text": [
      "Enter first age:  45\n",
      "Enter second age:  23\n"
     ]
    },
    {
     "name": "stdout",
     "output_type": "stream",
     "text": [
      "The first person is older!\n"
     ]
    }
   ],
   "source": [
    "#7. Compare two ages and print who is older.\n",
    "age_1 = int(input(\"Enter first age: \"))\n",
    "age_2 = int(input(\"Enter second age: \"))\n",
    "\n",
    "if age_1 > age_2:\n",
    "    print(\"The first person is older!\")\n",
    "elif age_2 > age_1:\n",
    "    print(\"The second person is older!\")\n",
    "\n"
   ]
  },
  {
   "cell_type": "code",
   "execution_count": 20,
   "id": "38acabaf-53f5-4406-bc2d-1f0304b93353",
   "metadata": {},
   "outputs": [
    {
     "name": "stdin",
     "output_type": "stream",
     "text": [
      "Enter first age:  45\n",
      "Enter second age:  23\n"
     ]
    },
    {
     "name": "stdout",
     "output_type": "stream",
     "text": [
      "The first person is older.\n"
     ]
    }
   ],
   "source": [
    "#8.  Use not to reverse a condition result.\n",
    "age_1 = int(input(\"Enter first age: \"))\n",
    "age_2 = int(input(\"Enter second age: \"))\n",
    "\n",
    "if not age_1 > age_2:\n",
    "    print(\"The second person is older or they are the same age!\")\n",
    "else:\n",
    "    print(\"The first person is older.\")"
   ]
  },
  {
   "cell_type": "code",
   "execution_count": 22,
   "id": "a91bed8a-ac05-439f-9396-dccc25664cca",
   "metadata": {},
   "outputs": [
    {
     "name": "stdout",
     "output_type": "stream",
     "text": [
      "The smallest number is: 4\n"
     ]
    }
   ],
   "source": [
    "#9.  Take three numbers and find the smallest using comparison operators.\n",
    "a = 12\n",
    "b = 7\n",
    "c = 4\n",
    "if a <= b and a <= c:\n",
    "    smallest = a\n",
    "elif b <= a and b <= c:\n",
    "    smallest = b\n",
    "else:\n",
    "    smallest = c\n",
    "    print(f\"The smallest number is: {smallest}\")"
   ]
  },
  {
   "cell_type": "code",
   "execution_count": 24,
   "id": "5205b9e6-b946-4a68-ac47-05eace1b5660",
   "metadata": {},
   "outputs": [
    {
     "name": "stdout",
     "output_type": "stream",
     "text": [
      "After swapping: \n",
      "a =  4\n",
      "b =  8\n"
     ]
    }
   ],
   "source": [
    "#10. Swap two variables using assignment only\n",
    "a = 8\n",
    "b = 4\n",
    "\n",
    "a = a + b\n",
    "b = a - b\n",
    "a = a - b\n",
    "\n",
    "print(\"After swapping: \")\n",
    "print(\"a = \", a)\n",
    "print(\"b = \", b)"
   ]
  },
  {
   "cell_type": "markdown",
   "id": "89337a7d-833f-46cd-9c57-987248b405b1",
   "metadata": {},
   "source": [
    "Lists\n"
   ]
  },
  {
   "cell_type": "code",
   "execution_count": 35,
   "id": "75877450-8449-4ba4-8fc6-77de3c2b2859",
   "metadata": {},
   "outputs": [
    {
     "name": "stdout",
     "output_type": "stream",
     "text": [
      "read\n",
      "write\n",
      "learn\n",
      "study\n",
      "improve\n"
     ]
    }
   ],
   "source": [
    "#11.  Create a list of 5 items and print each one using a loop.\n",
    "my_list = [\"read\", \"write\", \"learn\", \"study\", \"improve\"]\n",
    "for item in my_list:\n",
    "    print(item)"
   ]
  },
  {
   "cell_type": "code",
   "execution_count": 37,
   "id": "7ecedd4f-acd9-443d-ae7b-7ab22dc14da4",
   "metadata": {},
   "outputs": [
    {
     "name": "stdout",
     "output_type": "stream",
     "text": [
      "['read', 'write', 'learn', 'study', 'improve', 'practice']\n"
     ]
    }
   ],
   "source": [
    "#12. Add an item to the end of a list.\n",
    "my_list = [\"read\", \"write\", \"learn\", \"study\", \"improve\"]\n",
    "my_list.append(\"practice\")\n",
    "print(my_list)\n"
   ]
  },
  {
   "cell_type": "code",
   "execution_count": 39,
   "id": "883a0129-bd58-481b-b424-5216ed93c18b",
   "metadata": {},
   "outputs": [
    {
     "name": "stdout",
     "output_type": "stream",
     "text": [
      "[1, 9, 2, 3, 4, 5, 6]\n"
     ]
    }
   ],
   "source": [
    "#13. Insert a number at the second position of a list.\n",
    "my_list = [1, 2, 3, 4, 5, 6]\n",
    "my_list.insert(1, 9)\n",
    "print(my_list)\n"
   ]
  },
  {
   "cell_type": "code",
   "execution_count": null,
   "id": "386fa9bc-bd90-441b-9fff-91f96e0d827d",
   "metadata": {},
   "outputs": [],
   "source": []
  }
 ],
 "metadata": {
  "kernelspec": {
   "display_name": "Python [conda env:base] *",
   "language": "python",
   "name": "conda-base-py"
  },
  "language_info": {
   "codemirror_mode": {
    "name": "ipython",
    "version": 3
   },
   "file_extension": ".py",
   "mimetype": "text/x-python",
   "name": "python",
   "nbconvert_exporter": "python",
   "pygments_lexer": "ipython3",
   "version": "3.12.7"
  }
 },
 "nbformat": 4,
 "nbformat_minor": 5
}
