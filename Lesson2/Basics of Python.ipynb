{
 "cells": [
  {
   "cell_type": "markdown",
   "id": "3f0117b8-e212-4c77-8384-b15a81adbab5",
   "metadata": {},
   "source": [
    "Basics of Python"
   ]
  },
  {
   "cell_type": "code",
   "execution_count": 2,
   "id": "1e849148-007c-462f-807f-a263b0ad429b",
   "metadata": {},
   "outputs": [
    {
     "name": "stdout",
     "output_type": "stream",
     "text": [
      "Hello World!\n"
     ]
    }
   ],
   "source": [
    "#1. Print \"Hello World!\"\n",
    "print(\"Hello World!\")"
   ]
  },
  {
   "cell_type": "code",
   "execution_count": 4,
   "id": "41de7ffc-19d5-449a-9a74-ab7e77a29255",
   "metadata": {},
   "outputs": [
    {
     "name": "stdout",
     "output_type": "stream",
     "text": [
      "Katona Edit\n"
     ]
    }
   ],
   "source": [
    "#2. Print your name\n",
    "print(\"Katona Edit\")"
   ]
  },
  {
   "cell_type": "code",
   "execution_count": 6,
   "id": "b8c8a412-dfa0-4907-b381-ed17587a1185",
   "metadata": {},
   "outputs": [
    {
     "name": "stdout",
     "output_type": "stream",
     "text": [
      "Hello, Katona Edit!\n"
     ]
    }
   ],
   "source": [
    "#3. Take user's name as input and greet them\n",
    "name = (\"Katona Edit\")\n",
    "print(\"Hello, \" + name + \"!\")"
   ]
  },
  {
   "cell_type": "code",
   "execution_count": 8,
   "id": "f022d495-f58d-4f5f-acf4-220795d5c824",
   "metadata": {},
   "outputs": [
    {
     "name": "stdin",
     "output_type": "stream",
     "text": [
      "Enter first number:  45\n",
      "Enter second number:  23\n"
     ]
    },
    {
     "name": "stdout",
     "output_type": "stream",
     "text": [
      "Sum:  68\n"
     ]
    }
   ],
   "source": [
    "#4. Add two numbers\n",
    "a = int(input(\"Enter first number: \"))\n",
    "b = int(input(\"Enter second number: \"))\n",
    "print(\"Sum: \", a + b)"
   ]
  },
  {
   "cell_type": "code",
   "execution_count": 10,
   "id": "7d85cf10-5a32-45e1-a78f-711511762e79",
   "metadata": {},
   "outputs": [
    {
     "name": "stdin",
     "output_type": "stream",
     "text": [
      "Enter first number:  67\n",
      "Enter second number:  23\n"
     ]
    },
    {
     "name": "stdout",
     "output_type": "stream",
     "text": [
      "Difference:  44\n"
     ]
    }
   ],
   "source": [
    "#5. Subtract two numbers\n",
    "a = int(input(\"Enter first number: \"))\n",
    "b = int(input(\"Enter second number: \"))\n",
    "print(\"Difference: \", a - b)"
   ]
  },
  {
   "cell_type": "code",
   "execution_count": 12,
   "id": "7d3c34b8-abc2-4b8a-834f-b6e494cf2da9",
   "metadata": {},
   "outputs": [
    {
     "name": "stdin",
     "output_type": "stream",
     "text": [
      "Enter first number:  2\n",
      "Enter second number:  8\n"
     ]
    },
    {
     "name": "stdout",
     "output_type": "stream",
     "text": [
      "Product:  16\n"
     ]
    }
   ],
   "source": [
    "#6. Multiply two numbers\n",
    "a = int(input(\"Enter first number: \"))\n",
    "b = int(input(\"Enter second number: \"))\n",
    "print(\"Product: \", a * b)"
   ]
  },
  {
   "cell_type": "code",
   "execution_count": 14,
   "id": "6e0e24c7-82d0-4525-b537-572a25f25178",
   "metadata": {},
   "outputs": [
    {
     "name": "stdin",
     "output_type": "stream",
     "text": [
      "Enter first number:  45\n",
      "Enter second number:  23\n"
     ]
    },
    {
     "name": "stdout",
     "output_type": "stream",
     "text": [
      "Quotient:  1.9565217391304348\n"
     ]
    }
   ],
   "source": [
    "#7. Divide two numbers\n",
    "a = int(input(\"Enter first number: \"))\n",
    "b = int(input(\"Enter second number: \"))\n",
    "print(\"Quotient: \", a / b)"
   ]
  },
  {
   "cell_type": "code",
   "execution_count": 16,
   "id": "f1e6c82d-6197-4c55-b5f0-53ef46829183",
   "metadata": {},
   "outputs": [
    {
     "name": "stdin",
     "output_type": "stream",
     "text": [
      "Enter first number:  45\n",
      "Enter second number:  20\n"
     ]
    },
    {
     "name": "stdout",
     "output_type": "stream",
     "text": [
      "Remainder:  5\n"
     ]
    }
   ],
   "source": [
    "#8. Find the remainder of a division\n",
    "a = int(input(\"Enter first number: \"))\n",
    "b = int(input(\"Enter second number: \"))\n",
    "print(\"Remainder: \", a % b)"
   ]
  },
  {
   "cell_type": "code",
   "execution_count": 18,
   "id": "f0006234-66fe-43bc-8f5c-472f88b82597",
   "metadata": {},
   "outputs": [
    {
     "name": "stdin",
     "output_type": "stream",
     "text": [
      "Enter a number:  34\n"
     ]
    },
    {
     "name": "stdout",
     "output_type": "stream",
     "text": [
      "Square:  1156\n"
     ]
    }
   ],
   "source": [
    "#9. Find the square of a number\n",
    "num = int(input(\"Enter a number: \"))\n",
    "print(\"Square: \", num ** 2)"
   ]
  },
  {
   "cell_type": "code",
   "execution_count": 20,
   "id": "d450b1f5-e58c-4b48-9eda-22fd0971ffdf",
   "metadata": {},
   "outputs": [
    {
     "name": "stdin",
     "output_type": "stream",
     "text": [
      "Enter base:  56\n",
      "Enter exponent:  2\n"
     ]
    },
    {
     "name": "stdout",
     "output_type": "stream",
     "text": [
      "Result:  3136\n"
     ]
    }
   ],
   "source": [
    "#10. Power of number\n",
    "base = int(input(\"Enter base: \"))\n",
    "exp = int(input(\"Enter exponent: \"))\n",
    "print(\"Result: \", base ** exp)"
   ]
  },
  {
   "cell_type": "code",
   "execution_count": 22,
   "id": "f69111f4-8258-467a-9350-c311e7177c38",
   "metadata": {},
   "outputs": [
    {
     "name": "stdin",
     "output_type": "stream",
     "text": [
      "Enter kilometers:  10\n"
     ]
    },
    {
     "name": "stdout",
     "output_type": "stream",
     "text": [
      "Miles:  6.21371\n"
     ]
    }
   ],
   "source": [
    "#11. Convert kilometers to miles\n",
    "km = float(input(\"Enter kilometers: \"))\n",
    "miles = km * 0.621371\n",
    "print(\"Miles: \", miles)"
   ]
  },
  {
   "cell_type": "code",
   "execution_count": 24,
   "id": "6b10afeb-da32-418c-a4af-c11ab3595def",
   "metadata": {},
   "outputs": [
    {
     "name": "stdin",
     "output_type": "stream",
     "text": [
      "Enter temperature in Celsius:  37\n"
     ]
    },
    {
     "name": "stdout",
     "output_type": "stream",
     "text": [
      "Fahrenheit:  98.6\n"
     ]
    }
   ],
   "source": [
    "#12. Convert Celsius to Fahrenheit\n",
    "c = float(input(\"Enter temperature in Celsius: \"))\n",
    "f = (c * 9/5) + 32\n",
    "print(\"Fahrenheit: \", f)"
   ]
  },
  {
   "cell_type": "code",
   "execution_count": 26,
   "id": "d8809050-092d-4110-bf12-d6a7233479e8",
   "metadata": {},
   "outputs": [
    {
     "name": "stdin",
     "output_type": "stream",
     "text": [
      "Enter first number:  8\n",
      "Enter second number:  3\n"
     ]
    },
    {
     "name": "stdout",
     "output_type": "stream",
     "text": [
      "Swapped: a = 3 b = 8\n"
     ]
    }
   ],
   "source": [
    "#13. Swap to numers\n",
    "a = input(\"Enter first number: \")\n",
    "b = input(\"Enter second number: \")\n",
    "a, b = b, a\n",
    "print(\"Swapped: a =\", a, \"b =\", b )"
   ]
  },
  {
   "cell_type": "code",
   "execution_count": 28,
   "id": "eb17618c-d20e-48e6-8890-5f6cd49d007e",
   "metadata": {},
   "outputs": [
    {
     "name": "stdin",
     "output_type": "stream",
     "text": [
      "Enter lenght:  23\n",
      "Enter width:  34\n"
     ]
    },
    {
     "name": "stdout",
     "output_type": "stream",
     "text": [
      "Area:  57.0\n"
     ]
    }
   ],
   "source": [
    "#14. Calculate area of rentagle\n",
    "length = float(input(\"Enter lenght: \"))\n",
    "width = float(input(\"Enter width: \"))\n",
    "print(\"Area: \", length + width)"
   ]
  },
  {
   "cell_type": "code",
   "execution_count": 30,
   "id": "e2908723-5364-4906-b7ad-dc3da61df658",
   "metadata": {},
   "outputs": [
    {
     "name": "stdin",
     "output_type": "stream",
     "text": [
      "Enter radius:  5\n"
     ]
    },
    {
     "name": "stdout",
     "output_type": "stream",
     "text": [
      "Area of circle:  78.5\n"
     ]
    }
   ],
   "source": [
    "#15. Area of a circle\n",
    "r = float(input(\"Enter radius: \"))\n",
    "area = 3.14 * r * r\n",
    "print(\"Area of circle: \", area)\n"
   ]
  },
  {
   "cell_type": "code",
   "execution_count": 32,
   "id": "fd94b658-e39d-4e19-b85a-e81e295294a2",
   "metadata": {},
   "outputs": [
    {
     "name": "stdin",
     "output_type": "stream",
     "text": [
      "Enter side a:  2\n",
      "Enter side b:  4\n",
      "Enter side c:  5\n"
     ]
    },
    {
     "name": "stdout",
     "output_type": "stream",
     "text": [
      "Perimeter:  11.0\n"
     ]
    }
   ],
   "source": [
    "#16. Perimeter of a triangle\n",
    "a = float(input(\"Enter side a: \"))\n",
    "b = float(input(\"Enter side b: \"))\n",
    "c = float(input(\"Enter side c: \"))\n",
    "print(\"Perimeter: \", a + b + c)"
   ]
  },
  {
   "cell_type": "code",
   "execution_count": 34,
   "id": "df30b7e9-ee20-4f52-bff2-624dcacdff25",
   "metadata": {},
   "outputs": [
    {
     "name": "stdin",
     "output_type": "stream",
     "text": [
      "Enter your age:  43\n"
     ]
    },
    {
     "name": "stdout",
     "output_type": "stream",
     "text": [
      "Months old:  516\n",
      "Days old:  15695\n"
     ]
    }
   ],
   "source": [
    "#17. Convert age to months and days\n",
    "age = int(input(\"Enter your age: \"))\n",
    "print(\"Months old: \", age * 12)\n",
    "print(\"Days old: \", age * 365)"
   ]
  },
  {
   "cell_type": "code",
   "execution_count": 36,
   "id": "3cc701a2-c650-495f-b507-d2ddbfe8d815",
   "metadata": {},
   "outputs": [
    {
     "name": "stdin",
     "output_type": "stream",
     "text": [
      "Enter seconds:  23456789\n"
     ]
    },
    {
     "name": "stdout",
     "output_type": "stream",
     "text": [
      "6515 Hours and 46 minutes\n"
     ]
    }
   ],
   "source": [
    "#18. Convert seconds to hours and minutes\n",
    "seconds = int(input(\"Enter seconds: \"))\n",
    "hours = seconds // 3600\n",
    "minutes = (seconds % 3600) // 60\n",
    "print(hours, \"Hours and\", minutes, \"minutes\" )"
   ]
  },
  {
   "cell_type": "code",
   "execution_count": null,
   "id": "4116754b-5cfd-4cdd-ad36-16a45bc9d9c0",
   "metadata": {},
   "outputs": [],
   "source": []
  }
 ],
 "metadata": {
  "kernelspec": {
   "display_name": "Python [conda env:base] *",
   "language": "python",
   "name": "conda-base-py"
  },
  "language_info": {
   "codemirror_mode": {
    "name": "ipython",
    "version": 3
   },
   "file_extension": ".py",
   "mimetype": "text/x-python",
   "name": "python",
   "nbconvert_exporter": "python",
   "pygments_lexer": "ipython3",
   "version": "3.12.7"
  }
 },
 "nbformat": 4,
 "nbformat_minor": 5
}
