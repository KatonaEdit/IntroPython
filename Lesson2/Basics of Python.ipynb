{
 "cells": [
  {
   "cell_type": "markdown",
   "id": "3f0117b8-e212-4c77-8384-b15a81adbab5",
   "metadata": {},
   "source": [
    "Basics of Python"
   ]
  },
  {
   "cell_type": "code",
   "execution_count": 2,
   "id": "1e849148-007c-462f-807f-a263b0ad429b",
   "metadata": {},
   "outputs": [
    {
     "name": "stdout",
     "output_type": "stream",
     "text": [
      "Hello World!\n"
     ]
    }
   ],
   "source": [
    "#1. Print \"Hello World!\"\n",
    "print(\"Hello World!\")"
   ]
  },
  {
   "cell_type": "code",
   "execution_count": 4,
   "id": "41de7ffc-19d5-449a-9a74-ab7e77a29255",
   "metadata": {},
   "outputs": [
    {
     "name": "stdout",
     "output_type": "stream",
     "text": [
      "Katona Edit\n"
     ]
    }
   ],
   "source": [
    "#2. Print your name\n",
    "print(\"Katona Edit\")"
   ]
  },
  {
   "cell_type": "code",
   "execution_count": 6,
   "id": "b8c8a412-dfa0-4907-b381-ed17587a1185",
   "metadata": {},
   "outputs": [
    {
     "name": "stdout",
     "output_type": "stream",
     "text": [
      "Hello, Katona Edit!\n"
     ]
    }
   ],
   "source": [
    "#3. Take user's name as input and greet them\n",
    "name = (\"Katona Edit\")\n",
    "print(\"Hello, \" + name + \"!\")"
   ]
  },
  {
   "cell_type": "code",
   "execution_count": 8,
   "id": "f022d495-f58d-4f5f-acf4-220795d5c824",
   "metadata": {},
   "outputs": [
    {
     "name": "stdin",
     "output_type": "stream",
     "text": [
      "Enter first number:  45\n",
      "Enter second number:  23\n"
     ]
    },
    {
     "name": "stdout",
     "output_type": "stream",
     "text": [
      "Sum:  68\n"
     ]
    }
   ],
   "source": [
    "#4. Add two numbers\n",
    "a = int(input(\"Enter first number: \"))\n",
    "b = int(input(\"Enter second number: \"))\n",
    "print(\"Sum: \", a + b)"
   ]
  },
  {
   "cell_type": "code",
   "execution_count": 10,
   "id": "7d85cf10-5a32-45e1-a78f-711511762e79",
   "metadata": {},
   "outputs": [
    {
     "name": "stdin",
     "output_type": "stream",
     "text": [
      "Enter first number:  67\n",
      "Enter second number:  23\n"
     ]
    },
    {
     "name": "stdout",
     "output_type": "stream",
     "text": [
      "Difference:  44\n"
     ]
    }
   ],
   "source": [
    "#5. Subtract two numbers\n",
    "a = int(input(\"Enter first number: \"))\n",
    "b = int(input(\"Enter second number: \"))\n",
    "print(\"Difference: \", a - b)"
   ]
  },
  {
   "cell_type": "code",
   "execution_count": 12,
   "id": "7d3c34b8-abc2-4b8a-834f-b6e494cf2da9",
   "metadata": {},
   "outputs": [
    {
     "name": "stdin",
     "output_type": "stream",
     "text": [
      "Enter first number:  2\n",
      "Enter second number:  8\n"
     ]
    },
    {
     "name": "stdout",
     "output_type": "stream",
     "text": [
      "Product:  16\n"
     ]
    }
   ],
   "source": [
    "#6. Multiply two numbers\n",
    "a = int(input(\"Enter first number: \"))\n",
    "b = int(input(\"Enter second number: \"))\n",
    "print(\"Product: \", a * b)"
   ]
  },
  {
   "cell_type": "code",
   "execution_count": 14,
   "id": "6e0e24c7-82d0-4525-b537-572a25f25178",
   "metadata": {},
   "outputs": [
    {
     "name": "stdin",
     "output_type": "stream",
     "text": [
      "Enter first number:  45\n",
      "Enter second number:  23\n"
     ]
    },
    {
     "name": "stdout",
     "output_type": "stream",
     "text": [
      "Quotient:  1.9565217391304348\n"
     ]
    }
   ],
   "source": [
    "#7. Divide two numbers\n",
    "a = int(input(\"Enter first number: \"))\n",
    "b = int(input(\"Enter second number: \"))\n",
    "print(\"Quotient: \", a / b)"
   ]
  },
  {
   "cell_type": "code",
   "execution_count": 16,
   "id": "f1e6c82d-6197-4c55-b5f0-53ef46829183",
   "metadata": {},
   "outputs": [
    {
     "name": "stdin",
     "output_type": "stream",
     "text": [
      "Enter first number:  45\n",
      "Enter second number:  20\n"
     ]
    },
    {
     "name": "stdout",
     "output_type": "stream",
     "text": [
      "Remainder:  5\n"
     ]
    }
   ],
   "source": [
    "#8. Find the remainder of a division\n",
    "a = int(input(\"Enter first number: \"))\n",
    "b = int(input(\"Enter second number: \"))\n",
    "print(\"Remainder: \", a % b)"
   ]
  },
  {
   "cell_type": "code",
   "execution_count": 18,
   "id": "f0006234-66fe-43bc-8f5c-472f88b82597",
   "metadata": {},
   "outputs": [
    {
     "name": "stdin",
     "output_type": "stream",
     "text": [
      "Enter a number:  34\n"
     ]
    },
    {
     "name": "stdout",
     "output_type": "stream",
     "text": [
      "Square:  1156\n"
     ]
    }
   ],
   "source": [
    "#9. Find the square of a number\n",
    "num = int(input(\"Enter a number: \"))\n",
    "print(\"Square: \", num ** 2)"
   ]
  },
  {
   "cell_type": "code",
   "execution_count": 20,
   "id": "d450b1f5-e58c-4b48-9eda-22fd0971ffdf",
   "metadata": {},
   "outputs": [
    {
     "name": "stdin",
     "output_type": "stream",
     "text": [
      "Enter base:  56\n",
      "Enter exponent:  2\n"
     ]
    },
    {
     "name": "stdout",
     "output_type": "stream",
     "text": [
      "Result:  3136\n"
     ]
    }
   ],
   "source": [
    "#10. Power of number\n",
    "base = int(input(\"Enter base: \"))\n",
    "exp = int(input(\"Enter exponent: \"))\n",
    "print(\"Result: \", base ** exp)"
   ]
  },
  {
   "cell_type": "code",
   "execution_count": 22,
   "id": "f69111f4-8258-467a-9350-c311e7177c38",
   "metadata": {},
   "outputs": [
    {
     "name": "stdin",
     "output_type": "stream",
     "text": [
      "Enter kilometers:  10\n"
     ]
    },
    {
     "name": "stdout",
     "output_type": "stream",
     "text": [
      "Miles:  6.21371\n"
     ]
    }
   ],
   "source": [
    "#11. Convert kilometers to miles\n",
    "km = float(input(\"Enter kilometers: \"))\n",
    "miles = km * 0.621371\n",
    "print(\"Miles: \", miles)"
   ]
  },
  {
   "cell_type": "code",
   "execution_count": 24,
   "id": "6b10afeb-da32-418c-a4af-c11ab3595def",
   "metadata": {},
   "outputs": [
    {
     "name": "stdin",
     "output_type": "stream",
     "text": [
      "Enter temperature in Celsius:  37\n"
     ]
    },
    {
     "name": "stdout",
     "output_type": "stream",
     "text": [
      "Fahrenheit:  98.6\n"
     ]
    }
   ],
   "source": [
    "#12. Convert Celsius to Fahrenheit\n",
    "c = float(input(\"Enter temperature in Celsius: \"))\n",
    "f = (c * 9/5) + 32\n",
    "print(\"Fahrenheit: \", f)"
   ]
  },
  {
   "cell_type": "code",
   "execution_count": 26,
   "id": "d8809050-092d-4110-bf12-d6a7233479e8",
   "metadata": {},
   "outputs": [
    {
     "name": "stdin",
     "output_type": "stream",
     "text": [
      "Enter first number:  8\n",
      "Enter second number:  3\n"
     ]
    },
    {
     "name": "stdout",
     "output_type": "stream",
     "text": [
      "Swapped: a = 3 b = 8\n"
     ]
    }
   ],
   "source": [
    "#13. Swap to numers\n",
    "a = input(\"Enter first number: \")\n",
    "b = input(\"Enter second number: \")\n",
    "a, b = b, a\n",
    "print(\"Swapped: a =\", a, \"b =\", b )"
   ]
  },
  {
   "cell_type": "code",
   "execution_count": 28,
   "id": "eb17618c-d20e-48e6-8890-5f6cd49d007e",
   "metadata": {},
   "outputs": [
    {
     "name": "stdin",
     "output_type": "stream",
     "text": [
      "Enter lenght:  23\n",
      "Enter width:  34\n"
     ]
    },
    {
     "name": "stdout",
     "output_type": "stream",
     "text": [
      "Area:  57.0\n"
     ]
    }
   ],
   "source": [
    "#14. Calculate area of rentagle\n",
    "length = float(input(\"Enter lenght: \"))\n",
    "width = float(input(\"Enter width: \"))\n",
    "print(\"Area: \", length + width)"
   ]
  },
  {
   "cell_type": "code",
   "execution_count": 30,
   "id": "e2908723-5364-4906-b7ad-dc3da61df658",
   "metadata": {},
   "outputs": [
    {
     "name": "stdin",
     "output_type": "stream",
     "text": [
      "Enter radius:  5\n"
     ]
    },
    {
     "name": "stdout",
     "output_type": "stream",
     "text": [
      "Area of circle:  78.5\n"
     ]
    }
   ],
   "source": [
    "#15. Area of a circle\n",
    "r = float(input(\"Enter radius: \"))\n",
    "area = 3.14 * r * r\n",
    "print(\"Area of circle: \", area)\n"
   ]
  },
  {
   "cell_type": "code",
   "execution_count": 32,
   "id": "fd94b658-e39d-4e19-b85a-e81e295294a2",
   "metadata": {},
   "outputs": [
    {
     "name": "stdin",
     "output_type": "stream",
     "text": [
      "Enter side a:  2\n",
      "Enter side b:  4\n",
      "Enter side c:  5\n"
     ]
    },
    {
     "name": "stdout",
     "output_type": "stream",
     "text": [
      "Perimeter:  11.0\n"
     ]
    }
   ],
   "source": [
    "#16. Perimeter of a triangle\n",
    "a = float(input(\"Enter side a: \"))\n",
    "b = float(input(\"Enter side b: \"))\n",
    "c = float(input(\"Enter side c: \"))\n",
    "print(\"Perimeter: \", a + b + c)"
   ]
  },
  {
   "cell_type": "code",
   "execution_count": 34,
   "id": "df30b7e9-ee20-4f52-bff2-624dcacdff25",
   "metadata": {},
   "outputs": [
    {
     "name": "stdin",
     "output_type": "stream",
     "text": [
      "Enter your age:  43\n"
     ]
    },
    {
     "name": "stdout",
     "output_type": "stream",
     "text": [
      "Months old:  516\n",
      "Days old:  15695\n"
     ]
    }
   ],
   "source": [
    "#17. Convert age to months and days\n",
    "age = int(input(\"Enter your age: \"))\n",
    "print(\"Months old: \", age * 12)\n",
    "print(\"Days old: \", age * 365)"
   ]
  },
  {
   "cell_type": "code",
   "execution_count": 36,
   "id": "3cc701a2-c650-495f-b507-d2ddbfe8d815",
   "metadata": {},
   "outputs": [
    {
     "name": "stdin",
     "output_type": "stream",
     "text": [
      "Enter seconds:  23456789\n"
     ]
    },
    {
     "name": "stdout",
     "output_type": "stream",
     "text": [
      "6515 Hours and 46 minutes\n"
     ]
    }
   ],
   "source": [
    "#18. Convert seconds to hours and minutes\n",
    "seconds = int(input(\"Enter seconds: \"))\n",
    "hours = seconds // 3600\n",
    "minutes = (seconds % 3600) // 60\n",
    "print(hours, \"Hours and\", minutes, \"minutes\" )"
   ]
  },
  {
   "cell_type": "code",
   "execution_count": 40,
   "id": "4116754b-5cfd-4cdd-ad36-16a45bc9d9c0",
   "metadata": {},
   "outputs": [
    {
     "name": "stdin",
     "output_type": "stream",
     "text": [
      "Enter a float number:  4.567\n"
     ]
    },
    {
     "name": "stdout",
     "output_type": "stream",
     "text": [
      "4.57\n"
     ]
    }
   ],
   "source": [
    "#19. Round a float\n",
    "num = float(input(\"Enter a float number: \"))\n",
    "print(round(num, 2))"
   ]
  },
  {
   "cell_type": "code",
   "execution_count": 46,
   "id": "80736854-35c7-4cf2-94c3-b06ff92c90e1",
   "metadata": {},
   "outputs": [
    {
     "name": "stdin",
     "output_type": "stream",
     "text": [
      "Enter two numbers:  2, 3\n"
     ]
    },
    {
     "name": "stdout",
     "output_type": "stream",
     "text": [
      "a = 2, b = 3\n"
     ]
    }
   ],
   "source": [
    "#20. Take multiple inputs and display\n",
    "a, b = input(\"Enter two numbers: \").split()\n",
    "print(\"a =\", a, \"b =\", b)"
   ]
  },
  {
   "cell_type": "code",
   "execution_count": 50,
   "id": "c81de53e-c48c-4b3e-a527-d5a0b49a92eb",
   "metadata": {},
   "outputs": [
    {
     "name": "stdin",
     "output_type": "stream",
     "text": [
      "Enter first number:  5\n",
      "Enter second number:  3\n",
      "Enter third number:  7\n"
     ]
    },
    {
     "name": "stdout",
     "output_type": "stream",
     "text": [
      "Average:  5.0\n"
     ]
    }
   ],
   "source": [
    "#21. Find the average of three numbers\n",
    "a = float(input(\"Enter first number: \"))\n",
    "b = float(input(\"Enter second number: \"))\n",
    "c = float(input(\"Enter third number: \"))\n",
    "average = (a + b + c) / 3\n",
    "print(\"Average: \", average)"
   ]
  },
  {
   "cell_type": "code",
   "execution_count": 52,
   "id": "bc8ea56e-4ac2-44f2-a4d7-66d9601d5c6b",
   "metadata": {},
   "outputs": [
    {
     "name": "stdin",
     "output_type": "stream",
     "text": [
      "Enter something:  24\n"
     ]
    },
    {
     "name": "stdout",
     "output_type": "stream",
     "text": [
      "You entered:  24\n",
      "Data type is :  <class 'str'>\n"
     ]
    }
   ],
   "source": [
    "#22. Use input() and type() to show data types\n",
    "value = input(\"Enter something: \")\n",
    "print(\"You entered: \", value)\n",
    "print(\"Data type is : \", type(value))"
   ]
  },
  {
   "cell_type": "code",
   "execution_count": 54,
   "id": "0aa3ffd9-7d01-40a6-ae09-be1b4b59e605",
   "metadata": {},
   "outputs": [
    {
     "name": "stdout",
     "output_type": "stream",
     "text": [
      "1 2 3\n"
     ]
    }
   ],
   "source": [
    "#23. Assign values to multiple variable in one line\n",
    "a, b, c = 1, 2, 3\n",
    "print(a, b, c)"
   ]
  },
  {
   "cell_type": "code",
   "execution_count": 56,
   "id": "89bc006b-c5dd-4a9f-bb7a-d3bc49bb264d",
   "metadata": {},
   "outputs": [
    {
     "name": "stdin",
     "output_type": "stream",
     "text": [
      "Enter your name:  Katona Edit\n",
      "Enter your age:  43\n"
     ]
    },
    {
     "name": "stdout",
     "output_type": "stream",
     "text": [
      "Hello Katona Edit, you are 43 years old.\n"
     ]
    }
   ],
   "source": [
    "#24. Use string formatting with variable\n",
    "name = input(\"Enter your name: \")\n",
    "age = input(\"Enter your age: \")\n",
    "print(f\"Hello {name}, you are {age} years old.\")"
   ]
  },
  {
   "cell_type": "code",
   "execution_count": 60,
   "id": "5bff097d-e230-43a8-a320-fc682815e960",
   "metadata": {},
   "outputs": [
    {
     "name": "stdin",
     "output_type": "stream",
     "text": [
      "Enter a nymber:  23\n"
     ]
    },
    {
     "name": "stdout",
     "output_type": "stream",
     "text": [
      "As integer:  23\n",
      "As float:  23.0\n",
      "As string:  23\n"
     ]
    }
   ],
   "source": [
    "#25. Take input and convert it to  int, float, and string\n",
    "num = input(\"Enter a nymber: \")\n",
    "print(\"As integer: \", int(num))\n",
    "print(\"As float: \", float(num))\n",
    "print(\"As string: \", str(num))"
   ]
  },
  {
   "cell_type": "code",
   "execution_count": 62,
   "id": "6bf94c44-bcfc-417f-85e4-9c6ebbac6eb7",
   "metadata": {},
   "outputs": [
    {
     "name": "stdout",
     "output_type": "stream",
     "text": [
      "Final value of x is:  22.75\n"
     ]
    }
   ],
   "source": [
    "#26. Use arithmetic assigment operators\n",
    "x = 10\n",
    "x += 5\n",
    "x -= 2\n",
    "x *= 7\n",
    "x /= 4\n",
    "print(\"Final value of x is: \", x)"
   ]
  },
  {
   "cell_type": "code",
   "execution_count": 64,
   "id": "f9b34960-391f-4f07-9440-89bc37322b2c",
   "metadata": {},
   "outputs": [
    {
     "name": "stdout",
     "output_type": "stream",
     "text": [
      "False\n",
      "True\n",
      "False\n"
     ]
    }
   ],
   "source": [
    "#27. Use comparison operators\n",
    "a = 34\n",
    "b = 78\n",
    "print(a == b)\n",
    "print(a != b)\n",
    "print(a > b)"
   ]
  },
  {
   "cell_type": "code",
   "execution_count": 66,
   "id": "a43222a7-8c61-49ad-be61-a40abfa51c1d",
   "metadata": {},
   "outputs": [
    {
     "name": "stdout",
     "output_type": "stream",
     "text": [
      "True\n",
      "7 2\n",
      "True\n"
     ]
    }
   ],
   "source": [
    "#28. Use logical operators\n",
    "a = 7\n",
    "b = 20\n",
    "print(a > 2 and b < 80)\n",
    "print(a , 2 or b > 7)\n",
    "print(a == 7)"
   ]
  },
  {
   "cell_type": "code",
   "execution_count": 68,
   "id": "2148245b-fa82-47ac-8662-d5752f4b5f67",
   "metadata": {},
   "outputs": [
    {
     "name": "stdin",
     "output_type": "stream",
     "text": [
      "Enter a float:  45.6\n"
     ]
    },
    {
     "name": "stdout",
     "output_type": "stream",
     "text": [
      "Integer part:  45\n"
     ]
    }
   ],
   "source": [
    "#29. Print integer part of float\n",
    "num = float(input(\"Enter a float: \"))\n",
    "print(\"Integer part: \", int(num))"
   ]
  },
  {
   "cell_type": "code",
   "execution_count": 70,
   "id": "33147392-d23c-484f-b07d-a8910230035f",
   "metadata": {},
   "outputs": [
    {
     "name": "stdin",
     "output_type": "stream",
     "text": [
      "Enter a number:  56\n"
     ]
    },
    {
     "name": "stdout",
     "output_type": "stream",
     "text": [
      "Absolute value:  56\n"
     ]
    }
   ],
   "source": [
    "#30. Find the absolut value \n",
    "num = int(input(\"Enter a number: \"))\n",
    "print(\"Absolute value: \", abs(num))"
   ]
  },
  {
   "cell_type": "code",
   "execution_count": 72,
   "id": "f3e401e6-922c-4517-a607-d9f0cdcd737a",
   "metadata": {},
   "outputs": [
    {
     "name": "stdin",
     "output_type": "stream",
     "text": [
      "Enter a number:  3\n"
     ]
    },
    {
     "name": "stdout",
     "output_type": "stream",
     "text": [
      "Square root:  1.7320508075688772\n"
     ]
    }
   ],
   "source": [
    "#31. Find square root using exponentiation\n",
    "num = float(input(\"Enter a number: \"))\n",
    "print(\"Square root: \", num ** 0.5)"
   ]
  },
  {
   "cell_type": "code",
   "execution_count": 74,
   "id": "9afb3ffa-effe-4170-9249-3fc88aacc3ea",
   "metadata": {},
   "outputs": [
    {
     "name": "stdin",
     "output_type": "stream",
     "text": [
      "Enter principal:  400\n",
      "Enter rate:  6\n",
      "Enter time:  6\n"
     ]
    },
    {
     "name": "stdout",
     "output_type": "stream",
     "text": [
      "Simple Interest:  144.0\n"
     ]
    }
   ],
   "source": [
    "#32. Calculate simple interest\n",
    "p = float(input(\"Enter principal: \"))\n",
    "r = float(input(\"Enter rate: \"))\n",
    "t = float(input(\"Enter time: \"))\n",
    "si = (p * r * t) / 100\n",
    "print(\"Simple Interest: \", si)"
   ]
  },
  {
   "cell_type": "code",
   "execution_count": 76,
   "id": "5ffcacb7-6edb-4c49-acb0-4223bd73c41e",
   "metadata": {},
   "outputs": [
    {
     "name": "stdin",
     "output_type": "stream",
     "text": [
      "Enter sentence:  Glade to be here!!!\n"
     ]
    },
    {
     "name": "stdout",
     "output_type": "stream",
     "text": [
      "You wrote:  Glade to be here!!!\n"
     ]
    }
   ],
   "source": [
    "#33. Take a sentence and print it\n",
    "sentence = input(\"Enter sentence: \")\n",
    "print(\"You wrote: \", sentence)"
   ]
  },
  {
   "cell_type": "code",
   "execution_count": 78,
   "id": "c8ccfe20-f0bd-43a3-8081-e43171abacc3",
   "metadata": {},
   "outputs": [
    {
     "name": "stdin",
     "output_type": "stream",
     "text": [
      "Enter something:  56\n"
     ]
    },
    {
     "name": "stdout",
     "output_type": "stream",
     "text": [
      "Type is:  <class 'str'>\n"
     ]
    }
   ],
   "source": [
    "#34. Use type(0 to detect input type\n",
    "val = input(\"Enter something: \")\n",
    "print(\"Type is: \", type(val))"
   ]
  },
  {
   "cell_type": "code",
   "execution_count": 80,
   "id": "1b0973d3-99b6-46cd-ac1d-770d89ec48a8",
   "metadata": {},
   "outputs": [
    {
     "name": "stdin",
     "output_type": "stream",
     "text": [
      "Enter a number wiht multiple digit:  3456\n"
     ]
    },
    {
     "name": "stdout",
     "output_type": "stream",
     "text": [
      "Last digit is:  6\n"
     ]
    }
   ],
   "source": [
    "#35. Print last digit of number\n",
    "num = int(input(\"Enter a number wiht multiple digit: \"))\n",
    "print(\"Last digit is: \", num % 10)"
   ]
  },
  {
   "cell_type": "code",
   "execution_count": 82,
   "id": "d88099f6-7cd8-4d54-947a-ea1819af508d",
   "metadata": {},
   "outputs": [
    {
     "name": "stdin",
     "output_type": "stream",
     "text": [
      "Enter a number:  67\n"
     ]
    },
    {
     "name": "stdout",
     "output_type": "stream",
     "text": [
      "Is not divisible by 3\n"
     ]
    }
   ],
   "source": [
    "#36. Check divisibility using modulo\n",
    "num = int(input(\"Enter a number: \"))\n",
    "if num % 3 == 0:\n",
    "    print(\"Divisible by 3\")\n",
    "else:\n",
    "    print(\"Is not divisible by 3\")"
   ]
  },
  {
   "cell_type": "code",
   "execution_count": 84,
   "id": "7471204f-34fb-45d2-8c8f-f048ce3911ea",
   "metadata": {},
   "outputs": [
    {
     "name": "stdin",
     "output_type": "stream",
     "text": [
      "Enter weight in kg:  65\n",
      "Enter height in meters:  1.69\n"
     ]
    },
    {
     "name": "stdout",
     "output_type": "stream",
     "text": [
      "Your BMI is:  22.76\n"
     ]
    }
   ],
   "source": [
    "#37. Calculate BMI\n",
    "weight = float(input(\"Enter weight in kg: \"))\n",
    "height = float(input(\"Enter height in meters: \"))\n",
    "bmi = weight / (height ** 2)\n",
    "print(\"Your BMI is: \", round(bmi, 2))"
   ]
  },
  {
   "cell_type": "code",
   "execution_count": 86,
   "id": "56bf20b5-6b35-41ee-b1d6-3b98617105d2",
   "metadata": {},
   "outputs": [
    {
     "name": "stdout",
     "output_type": "stream",
     "text": [
      "Memory size:  28 bytes\n"
     ]
    }
   ],
   "source": [
    "#38. Print memory size of variable\n",
    "import sys\n",
    "x = 42\n",
    "print(\"Memory size: \", sys.getsizeof(x), \"bytes\")"
   ]
  },
  {
   "cell_type": "code",
   "execution_count": 94,
   "id": "41a45582-d2e2-4b18-85f1-64065ef33a2f",
   "metadata": {},
   "outputs": [
    {
     "name": "stdin",
     "output_type": "stream",
     "text": [
      "Enter a character:  d\n"
     ]
    },
    {
     "name": "stdout",
     "output_type": "stream",
     "text": [
      "ASCII value:  100\n"
     ]
    }
   ],
   "source": [
    "#39. Print ASCII value of a character\n",
    "char = input(\"Enter a character: \")\n",
    "print(\"ASCII value: \", ord(char))"
   ]
  },
  {
   "cell_type": "code",
   "execution_count": 96,
   "id": "35bd71c1-d159-4c3f-bf81-d9d822f1b4bc",
   "metadata": {},
   "outputs": [
    {
     "name": "stdin",
     "output_type": "stream",
     "text": [
      "Enter a decimal number:  8\n"
     ]
    },
    {
     "name": "stdout",
     "output_type": "stream",
     "text": [
      "Binary:  0b1000\n"
     ]
    }
   ],
   "source": [
    "#40. Convert decimal to binary\n",
    "num = int(input(\"Enter a decimal number: \"))\n",
    "print(\"Binary: \", bin(num))"
   ]
  },
  {
   "cell_type": "code",
   "execution_count": 98,
   "id": "5f396dec-f8d0-4054-9a0f-6a05f9f57611",
   "metadata": {},
   "outputs": [
    {
     "name": "stdout",
     "output_type": "stream",
     "text": [
      "Python\n"
     ]
    }
   ],
   "source": [
    "#41. Create and print a string\n",
    "name = \"Python\"\n",
    "print(name)\n"
   ]
  },
  {
   "cell_type": "code",
   "execution_count": 100,
   "id": "311e6acc-e7ea-40cf-a7ab-88d534d12d58",
   "metadata": {},
   "outputs": [
    {
     "name": "stdout",
     "output_type": "stream",
     "text": [
      "Hello World!\n"
     ]
    }
   ],
   "source": [
    "#42. Concatenate two string\n",
    "a = \"Hello\"\n",
    "b = \"World!\"\n",
    "print(a + \" \" + b)"
   ]
  },
  {
   "cell_type": "code",
   "execution_count": 102,
   "id": "81576c97-1ed3-4e4a-b214-5cbbbeed55c8",
   "metadata": {},
   "outputs": [
    {
     "name": "stdin",
     "output_type": "stream",
     "text": [
      "Enter a string:  Antonia\n"
     ]
    },
    {
     "name": "stdout",
     "output_type": "stream",
     "text": [
      "Length:  7\n"
     ]
    }
   ],
   "source": [
    "#43. Find the length of a strin\n",
    "text = input(\"Enter a string: \")\n",
    "print(\"Length: \",len(text))"
   ]
  },
  {
   "cell_type": "code",
   "execution_count": 108,
   "id": "e6ba8585-9221-480f-a22f-d5daf9b2d1e2",
   "metadata": {},
   "outputs": [
    {
     "name": "stdin",
     "output_type": "stream",
     "text": [
      "Enter a string:  Antonia\n"
     ]
    },
    {
     "name": "stdout",
     "output_type": "stream",
     "text": [
      "First character:  A\n"
     ]
    }
   ],
   "source": [
    "#44. Acces specific character in string\n",
    "text = input(\"Enter a string: \")\n",
    "print(\"First character: \", text[0])"
   ]
  },
  {
   "cell_type": "code",
   "execution_count": 106,
   "id": "c15cf336-6568-4af2-aa3d-c59364dbc459",
   "metadata": {},
   "outputs": [
    {
     "name": "stdout",
     "output_type": "stream",
     "text": [
      "Python\n"
     ]
    }
   ],
   "source": [
    "#45. Get substring from a string\n",
    "text = \"Python programming\"\n",
    "print(text[0:6])"
   ]
  },
  {
   "cell_type": "code",
   "execution_count": 110,
   "id": "7ee15944-582a-44fd-8286-0368e4e2be35",
   "metadata": {},
   "outputs": [
    {
     "name": "stdin",
     "output_type": "stream",
     "text": [
      "Enter a string:  antonia\n"
     ]
    },
    {
     "name": "stdout",
     "output_type": "stream",
     "text": [
      "ANTONIA\n"
     ]
    }
   ],
   "source": [
    "#46. Convert string to uppercase\n",
    "text = input(\"Enter a string: \")\n",
    "print(text.upper())"
   ]
  },
  {
   "cell_type": "code",
   "execution_count": 112,
   "id": "efee2809-1dbb-45e6-8f01-24ed7d6b3621",
   "metadata": {},
   "outputs": [
    {
     "name": "stdin",
     "output_type": "stream",
     "text": [
      "Enter a string:  ANTONIA\n"
     ]
    },
    {
     "name": "stdout",
     "output_type": "stream",
     "text": [
      "antonia\n"
     ]
    }
   ],
   "source": [
    "#47. Convert string to lowercase\n",
    "text = input(\"Enter a string: \")\n",
    "print(text.lower())"
   ]
  },
  {
   "cell_type": "code",
   "execution_count": 114,
   "id": "55d51481-756a-4846-97c2-34a636d2182f",
   "metadata": {},
   "outputs": [
    {
     "name": "stdin",
     "output_type": "stream",
     "text": [
      "Enter a string:  This place is not bad.\n"
     ]
    },
    {
     "name": "stdout",
     "output_type": "stream",
     "text": [
      "This place is not good.\n"
     ]
    }
   ],
   "source": [
    "#48. Replace word in a string\n",
    "text = input(\"Enter a sentence: \")\n",
    "print(text.replace(\"bad\", \"good\"))"
   ]
  },
  {
   "cell_type": "code",
   "execution_count": 116,
   "id": "9e7acca3-ff63-4497-8ab4-9775f72deaf5",
   "metadata": {},
   "outputs": [
    {
     "name": "stdin",
     "output_type": "stream",
     "text": [
      "Enter a sentence:  : Databricks is a cloud-based data platform designed for\n",
      "Enter a word to check:  cloud\n"
     ]
    },
    {
     "name": "stdout",
     "output_type": "stream",
     "text": [
      "True\n"
     ]
    }
   ],
   "source": [
    "#49. Check if substring exist\n",
    "text = input(\"Enter a sentence: \")\n",
    "word = input(\"Enter a word to check: \")\n",
    "print(word in text)"
   ]
  },
  {
   "cell_type": "code",
   "execution_count": 118,
   "id": "da39e600-b0cc-40a9-bf32-2cda4b80ac08",
   "metadata": {},
   "outputs": [
    {
     "name": "stdin",
     "output_type": "stream",
     "text": [
      "Enter a text:  Data Science\n",
      "Enter character:  e\n"
     ]
    },
    {
     "name": "stdout",
     "output_type": "stream",
     "text": [
      "Occurrences:  2\n"
     ]
    }
   ],
   "source": [
    "#50. Count occurrences of a character\n",
    "text = input(\"Enter a text: \")\n",
    "char = input(\"Enter character: \")\n",
    "print(\"Occurrences: \", text.count(char))"
   ]
  },
  {
   "cell_type": "code",
   "execution_count": null,
   "id": "b4b537d3-6eeb-410e-a5b2-c15d35099e23",
   "metadata": {},
   "outputs": [],
   "source": []
  }
 ],
 "metadata": {
  "kernelspec": {
   "display_name": "Python [conda env:base] *",
   "language": "python",
   "name": "conda-base-py"
  },
  "language_info": {
   "codemirror_mode": {
    "name": "ipython",
    "version": 3
   },
   "file_extension": ".py",
   "mimetype": "text/x-python",
   "name": "python",
   "nbconvert_exporter": "python",
   "pygments_lexer": "ipython3",
   "version": "3.12.7"
  }
 },
 "nbformat": 4,
 "nbformat_minor": 5
}
